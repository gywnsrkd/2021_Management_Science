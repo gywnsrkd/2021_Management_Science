{
 "cells": [
  {
   "cell_type": "code",
   "execution_count": 147,
   "metadata": {},
   "outputs": [],
   "source": [
    "#데이터 불러오기\n",
    "\n",
    "import pandas as pd\n",
    "import numpy as np\n",
    "\n",
    "import matplotlib.pyplot as plt\n",
    "\n",
    "data_20=pd.read_csv('sales2020.csv', encoding='utf-8')\n",
    "data_19=pd.read_csv('sales2019.csv', encoding='utf-8')\n",
    "area=pd.read_csv('area.csv', encoding='utf-8')\n"
   ]
  },
  {
   "cell_type": "code",
   "execution_count": 148,
   "metadata": {},
   "outputs": [
    {
     "data": {
      "text/html": [
       "<div>\n",
       "<style scoped>\n",
       "    .dataframe tbody tr th:only-of-type {\n",
       "        vertical-align: middle;\n",
       "    }\n",
       "\n",
       "    .dataframe tbody tr th {\n",
       "        vertical-align: top;\n",
       "    }\n",
       "\n",
       "    .dataframe thead th {\n",
       "        text-align: right;\n",
       "    }\n",
       "</style>\n",
       "<table border=\"1\" class=\"dataframe\">\n",
       "  <thead>\n",
       "    <tr style=\"text-align: right;\">\n",
       "      <th></th>\n",
       "      <th>상권_코드</th>\n",
       "      <th>시군구_코드</th>\n",
       "    </tr>\n",
       "  </thead>\n",
       "  <tbody>\n",
       "    <tr>\n",
       "      <th>1491</th>\n",
       "      <td>1001153</td>\n",
       "      <td>11560</td>\n",
       "    </tr>\n",
       "    <tr>\n",
       "      <th>1492</th>\n",
       "      <td>1001154</td>\n",
       "      <td>11170</td>\n",
       "    </tr>\n",
       "    <tr>\n",
       "      <th>1493</th>\n",
       "      <td>1001155</td>\n",
       "      <td>11170</td>\n",
       "    </tr>\n",
       "    <tr>\n",
       "      <th>1494</th>\n",
       "      <td>1001156</td>\n",
       "      <td>11740</td>\n",
       "    </tr>\n",
       "    <tr>\n",
       "      <th>1495</th>\n",
       "      <td>1001120</td>\n",
       "      <td>11680</td>\n",
       "    </tr>\n",
       "  </tbody>\n",
       "</table>\n",
       "</div>"
      ],
      "text/plain": [
       "        상권_코드  시군구_코드\n",
       "1491  1001153   11560\n",
       "1492  1001154   11170\n",
       "1493  1001155   11170\n",
       "1494  1001156   11740\n",
       "1495  1001120   11680"
      ]
     },
     "execution_count": 148,
     "metadata": {},
     "output_type": "execute_result"
    }
   ],
   "source": [
    "#상권코드와 시군구 코드만 들어있는 데이터프레임 생성\n",
    "\n",
    "com_admin=area[['상권_코드', '시군구_코드']]"
   ]
  },
  {
   "cell_type": "code",
   "execution_count": 149,
   "metadata": {},
   "outputs": [],
   "source": [
    "#추정매출 데이터 중 필요한 정보만 포함된 데이터프레임 생성\n",
    "\n",
    "#2020년\n",
    "sales20=data_20[['기준_분기_코드', '상권_코드','분기당_매출_금액','분기당_매출_건수']]\n",
    "\n",
    "#2019년\n",
    "sales19=data_19[['기준_분기_코드', '상권_코드','분기당_매출_금액','분기당_매출_건수']]\n"
   ]
  },
  {
   "cell_type": "code",
   "execution_count": 150,
   "metadata": {},
   "outputs": [],
   "source": [
    "#시군구 코드 데이터와 추정매출 데이터 병합\n",
    "\n",
    "#2020년\n",
    "main20=pd.merge(sales20, com_admin)\n",
    "\n",
    "#2019년\n",
    "main19=pd.merge(sales19, com_admin)\n"
   ]
  },
  {
   "cell_type": "code",
   "execution_count": 151,
   "metadata": {},
   "outputs": [],
   "source": [
    "#11110 종로구\n",
    "Jongno20=main20[main20['시군구_코드']==11110]\n",
    "Jongno19=main19[main19['시군구_코드']==11110]\n",
    "\n",
    "#11140 중구\n",
    "Jung20=main20[main20['시군구_코드']==11140]\n",
    "Jung19=main19[main19['시군구_코드']==11140]\n",
    "\n",
    "#11170 용산구\n",
    "Yongsan20=main20[main20['시군구_코드']==11170]\n",
    "Yongsan19=main19[main19['시군구_코드']==11170]\n",
    "\n",
    "#11200 성동구\n",
    "Seongdong20=main20[main20['시군구_코드']==11200]\n",
    "Seongdong19=main19[main19['시군구_코드']==11200]\n",
    "\n",
    "#11215 광진구\n",
    "Gwangjin20=main20[main20['시군구_코드']==11215]\n",
    "Gwangjin19=main19[main19['시군구_코드']==11215]\n",
    "\n",
    "\n",
    "#11230 동대문구\n",
    "Dongdaemun20=main20[main20['시군구_코드']==11230]\n",
    "Dongdaemun19=main19[main19['시군구_코드']==11230]\n",
    "\n",
    "#11260 중랑구\n",
    "Jungnang20=main20[main20['시군구_코드']==11260]\n",
    "Jungnang19=main19[main19['시군구_코드']==11260]\n",
    "\n",
    "#11290 성북구\n",
    "Seongbuk20=main20[main20['시군구_코드']==11290]\n",
    "Seongbuk19=main19[main19['시군구_코드']==11290]\n",
    "\n",
    "#11305 강북구\n",
    "Gangbuk20=main20[main20['시군구_코드']==11305]\n",
    "Gangbuk19=main19[main19['시군구_코드']==11305]\n",
    "\n",
    "#11320 도봉구\n",
    "Dobong20=main20[main20['시군구_코드']==11320]\n",
    "Dobong19=main19[main19['시군구_코드']==11320]\n",
    "\n",
    "#11350 노원구\n",
    "Nowon20=main20[main20['시군구_코드']==11350]\n",
    "Nowon19=main19[main19['시군구_코드']==11350]\n",
    "\n",
    "#11380 은평구\n",
    "Eunpyeong20=main20[main20['시군구_코드']==11380]\n",
    "Eunpyeong19=main19[main19['시군구_코드']==11380]\n",
    "\n",
    "#11410 서대문구\n",
    "Seodaemun20=main20[main20['시군구_코드']==11410]\n",
    "Seodaemun19=main19[main19['시군구_코드']==11410]\n",
    "\n",
    "#11440 마포구\n",
    "Mapo20=main20[main20['시군구_코드']==11440]\n",
    "Mapo19=main19[main19['시군구_코드']==11440]\n",
    "\n",
    "#11470 양천구\n",
    "Yangcheon20=main20[main20['시군구_코드']==11470]\n",
    "Yangcheon19=main19[main19['시군구_코드']==11470]\n",
    "\n",
    "#11500 강서구\n",
    "Gangseo20=main20[main20['시군구_코드']==11500]\n",
    "Gangseo19=main19[main19['시군구_코드']==11500]\n",
    "\n",
    "#11530 구로구\n",
    "Guro20=main20[main20['시군구_코드']==11530]\n",
    "Guro19=main19[main19['시군구_코드']==11530]\n",
    "\n",
    "#11545 금천구\n",
    "Geumcheon20=main20[main20['시군구_코드']==11545]\n",
    "Geumcheon19=main19[main19['시군구_코드']==11545]\n",
    "\n",
    "#11560 영등포구\n",
    "Yeongdeungpo20=main20[main20['시군구_코드']==11560]\n",
    "Yeongdeungpo19=main19[main19['시군구_코드']==11560]\n",
    "\n",
    "#11590 동작구\n",
    "Dongjak20=main20[main20['시군구_코드']==11590]\n",
    "Dongjak19=main19[main19['시군구_코드']==11590]\n",
    "\n",
    "#11620 관악구\n",
    "Gwanak20=main20[main20['시군구_코드']==11620]\n",
    "Gwanak19=main19[main19['시군구_코드']==11620]\n",
    "\n",
    "#11650 서초구\n",
    "Seocho20=main20[main20['시군구_코드']==11650]\n",
    "Seocho19=main19[main19['시군구_코드']==11650]\n",
    "\n",
    "#11680 강남구\n",
    "Gangnam20=main20[main20['시군구_코드']==11680]\n",
    "Gangnam19=main19[main19['시군구_코드']==11680]\n",
    "\n",
    "#11710 송파구\n",
    "Songpa20=main20[main20['시군구_코드']==11710]\n",
    "Songpa19=main19[main19['시군구_코드']==11710]\n",
    "\n",
    "#11740 강동구\n",
    "Gangdong20=main20[main20['시군구_코드']==11740]\n",
    "Gangdong19=main19[main19['시군구_코드']==11740]\n"
   ]
  },
  {
   "cell_type": "code",
   "execution_count": 152,
   "metadata": {},
   "outputs": [],
   "source": [
    "#도심권\n",
    "Downtown20=pd.concat([Jongno20,Jung20, Yongsan20])\n",
    "Downtown19=pd.concat([Jongno19,Jung19, Yongsan19])\n",
    "\n",
    "#동북권\n",
    "Northeast20=pd.concat([Dongdaemun20,Seongdong20,Gwangjin20,Jungnang20,Seongbuk20,Gangbuk20,Dobong20,Nowon20])\n",
    "Northeast19=pd.concat([Dongdaemun19,Seongdong19,Gwangjin19,Jungnang19,Seongbuk19,Gangbuk19,Dobong19,Nowon19])\n",
    "\n",
    "#서북권\n",
    "Northwest20=pd.concat([Eunpyeong20,Seodaemun20,Mapo20])\n",
    "Northwest19=pd.concat([Eunpyeong19,Seodaemun19,Mapo19])\n",
    "\n",
    "#동남권\n",
    "Southeast20=pd.concat([Seocho20,Gangnam20,Songpa20,Gangdong20])\n",
    "Southeast19=pd.concat([Seocho19,Gangnam19,Songpa19,Gangdong19])\n",
    "\n",
    "#서남권\n",
    "Southwest20=pd.concat([Gangseo20,Yangcheon20,Guro20,Geumcheon20,Yeongdeungpo20,Dongjak20,Gwanak20])\n",
    "Southwest19=pd.concat([Gangseo19,Yangcheon19,Guro19,Geumcheon19,Yeongdeungpo19,Dongjak19,Gwanak19])\n"
   ]
  },
  {
   "cell_type": "code",
   "execution_count": 153,
   "metadata": {},
   "outputs": [],
   "source": [
    "#각 분기별로 매출 금액의 합계를 구하기\n",
    "\n",
    "#2020년--------------------------------------\n",
    "\n",
    "#도심권\n",
    "D_group20=Downtown20.groupby('기준_분기_코드')\n",
    "D_sum20=D_group20['분기당_매출_금액'].sum()\n",
    "\n",
    "#동북권\n",
    "NE20=Northeast20.groupby('기준_분기_코드')\n",
    "NE_sum20=NE20['분기당_매출_금액'].sum()\n",
    "\n",
    "#서북권\n",
    "NW20=Northwest20.groupby('기준_분기_코드')\n",
    "NW_sum20=NW20['분기당_매출_금액'].sum()\n",
    "\n",
    "#동남권\n",
    "SE20=Southeast20.groupby('기준_분기_코드')\n",
    "SE_sum20=SE20['분기당_매출_금액'].sum()\n",
    "\n",
    "#서남권\n",
    "SW20=Southwest20.groupby('기준_분기_코드')\n",
    "SW_sum20=SW20['분기당_매출_금액'].sum()\n",
    "\n",
    "#2019년----------------------------------------\n",
    "\n",
    "#도심권\n",
    "D_group19=Downtown19.groupby('기준_분기_코드')\n",
    "D_sum19=D_group19['분기당_매출_금액'].sum()\n",
    "\n",
    "#동북권\n",
    "NE19=Northeast19.groupby('기준_분기_코드')\n",
    "NE_sum19=NE19['분기당_매출_금액'].sum()\n",
    "\n",
    "#서북권\n",
    "NW19=Northwest19.groupby('기준_분기_코드')\n",
    "NW_sum19=NW19['분기당_매출_금액'].sum()\n",
    "\n",
    "#동남권\n",
    "SE19=Southeast19.groupby('기준_분기_코드')\n",
    "SE_sum19=SE19['분기당_매출_금액'].sum()\n",
    "\n",
    "#서남권\n",
    "SW19=Southwest19.groupby('기준_분기_코드')\n",
    "SW_sum19=SW19['분기당_매출_금액'].sum()\n",
    "\n"
   ]
  },
  {
   "cell_type": "code",
   "execution_count": 154,
   "metadata": {},
   "outputs": [],
   "source": [
    "#막대그래프 한글 설정\n",
    "\n",
    "from matplotlib import font_manager, rc\n",
    "font_path = \"C:/Windows/Fonts/NGULIM.TTF\"\n",
    "font = font_manager.FontProperties(fname=font_path).get_name()\n",
    "rc('font', family=font)\n"
   ]
  },
  {
   "cell_type": "code",
   "execution_count": 155,
   "metadata": {},
   "outputs": [
    {
     "data": {
      "text/plain": [
       "<matplotlib.legend.Legend at 0x20d31f77670>"
      ]
     },
     "execution_count": 155,
     "metadata": {},
     "output_type": "execute_result"
    },
    {
     "data": {
      "image/png": "[encoded data removed]",
      "text/plain": [
       "<Figure size 432x288 with 1 Axes>"
      ]
     },
     "metadata": {
      "needs_background": "light"
     },
     "output_type": "display_data"
    }
   ],
   "source": [
    "#생활권 별 매출 합계 그래프 그리기\n",
    "\n",
    "#2020년\n",
    "\n",
    "label=['1','2','3','4']\n",
    "x=np.arange(len(label))\n",
    "\n",
    "p1_20=plt.bar(x-0.24, D_sum20,label='도심권',width=0.12, color='red',alpha=0.5)\n",
    "p2_20=plt.bar(x-0.12, NE_sum20, label='동북권',width=0.12, color='orange',alpha=0.5)\n",
    "p3_20=plt.bar(x-0.0, NW_sum20, label='서북권',width=0.12, color='green',alpha=0.5)\n",
    "p4_20=plt.bar(x+0.12, SE_sum20, label='동남권',width=0.12, color='blue',alpha=0.5)\n",
    "p5_20=plt.bar(x+0.24, SW_sum20, label='서남권',width=0.12, color='black',alpha=0.5)\n",
    "\n",
    "plt.title('2020년 생활권 별 매출 합계', fontsize=10)\n",
    "\n",
    "plt.xlabel('분기', fontsize=9)\n",
    "\n",
    "plt.ylabel('매출', fontsize=9)\n",
    "\n",
    "plt.xticks(x, label, fontsize=7)\n",
    "\n",
    "plt.legend((p1_20[0], p2_20[0],p3_20[0],p4_20[0],p5_20[0]), ('도심권', '동북권','서북권','동남권','서남권'), fontsize=7)\n"
   ]
  },
  {
   "cell_type": "code",
   "execution_count": 156,
   "metadata": {},
   "outputs": [
    {
     "data": {
      "text/plain": [
       "<matplotlib.legend.Legend at 0x20d21905880>"
      ]
     },
     "execution_count": 156,
     "metadata": {},
     "output_type": "execute_result"
    },
    {
     "data": {
      "image/png": "[encoded data removed]",
      "text/plain": [
       "<Figure size 432x288 with 1 Axes>"
      ]
     },
     "metadata": {
      "needs_background": "light"
     },
     "output_type": "display_data"
    }
   ],
   "source": [
    "#2019년\n",
    "\n",
    "p1_19=plt.bar(x-0.24, D_sum19,label='도심권',width=0.12, color='red',alpha=0.5)\n",
    "p2_19=plt.bar(x-0.12, NE_sum19, label='동북권',width=0.12, color='orange',alpha=0.5)\n",
    "p3_19=plt.bar(x-0.0, NW_sum19, label='서북권',width=0.12, color='green',alpha=0.5)\n",
    "p4_19=plt.bar(x+0.12, SE_sum19, label='동남권',width=0.12, color='blue',alpha=0.5)\n",
    "p5_19=plt.bar(x+0.24, SW_sum19, label='서남권',width=0.12, color='black',alpha=0.5)\n",
    "\n",
    "plt.title('2019년 생활권 별 매출 합계', fontsize=10)\n",
    "\n",
    "plt.xlabel('분기', fontsize=9)\n",
    "\n",
    "plt.ylabel('매출', fontsize=9)\n",
    "\n",
    "plt.xticks(x, label, fontsize=7)\n",
    "\n",
    "plt.legend((p1_19[0], p2_19[0],p3_19[0],p4_19[0],p5_19[0]), ('도심권', '동북권','서북권','동남권','서남권'), fontsize=7)\n",
    "\n"
   ]
  },
  {
   "cell_type": "code",
   "execution_count": 157,
   "metadata": {},
   "outputs": [],
   "source": [
    "#2019년, 2020년 모두 동남권>도심권>서남권>동북권>서북권 순으로 매출 합계가 큼\n",
    "\n"
   ]
  },
  {
   "cell_type": "code",
   "execution_count": 158,
   "metadata": {},
   "outputs": [
    {
     "data": {
      "text/plain": [
       "<matplotlib.legend.Legend at 0x20d2194ffd0>"
      ]
     },
     "execution_count": 158,
     "metadata": {},
     "output_type": "execute_result"
    },
    {
     "data": {
      "image/png": "[encoded data removed]",
      "text/plain": [
       "<Figure size 432x288 with 1 Axes>"
      ]
     },
     "metadata": {
      "needs_background": "light"
     },
     "output_type": "display_data"
    }
   ],
   "source": [
    "#각 생활권의 2019년, 2020년 분기별 매출 그래프\n",
    "\n",
    "#도심권\n",
    "d19=plt.bar(x-0.2, D_sum19,label='2019년',width=0.2, color='blue',alpha=0.5)\n",
    "d20=plt.bar(x-0.0, D_sum20,label='2020년',width=0.2, color='red',alpha=0.5)\n",
    "\n",
    "plt.title('분기별 도심권 매출', fontsize=10)\n",
    "\n",
    "plt.xlabel('분기', fontsize=9)\n",
    "\n",
    "plt.ylabel('매출', fontsize=9)\n",
    "\n",
    "plt.xticks(x, label, fontsize=7)\n",
    "\n",
    "plt.legend((d19[0], d20[0]), ('2019년', '2020년'), fontsize=7)"
   ]
  },
  {
   "cell_type": "code",
   "execution_count": 159,
   "metadata": {},
   "outputs": [
    {
     "data": {
      "text/plain": [
       "<matplotlib.legend.Legend at 0x20d22056880>"
      ]
     },
     "execution_count": 159,
     "metadata": {},
     "output_type": "execute_result"
    },
    {
     "data": {
      "image/png": "[encoded data removed]",
      "text/plain": [
       "<Figure size 432x288 with 1 Axes>"
      ]
     },
     "metadata": {
      "needs_background": "light"
     },
     "output_type": "display_data"
    }
   ],
   "source": [
    "#동북\n",
    "ne19=plt.bar(x-0.2, NE_sum19,label='2019년',width=0.2, color='blue',alpha=0.5)\n",
    "ne20=plt.bar(x-0.0, NE_sum20,label='2020년',width=0.2, color='red',alpha=0.5)\n",
    "\n",
    "plt.title('분기별 동북권 매출', fontsize=10)\n",
    "\n",
    "plt.xlabel('분기', fontsize=9)\n",
    "\n",
    "plt.ylabel('매출', fontsize=9)\n",
    "\n",
    "plt.xticks(x, label, fontsize=7)\n",
    "\n",
    "plt.legend((ne19[0], ne20[0]), ('2019년', '2020년'), fontsize=7)"
   ]
  },
  {
   "cell_type": "code",
   "execution_count": 160,
   "metadata": {},
   "outputs": [
    {
     "data": {
      "text/plain": [
       "<matplotlib.legend.Legend at 0x20d21f5cd90>"
      ]
     },
     "execution_count": 160,
     "metadata": {},
     "output_type": "execute_result"
    },
    {
     "data": {
      "image/png": "[encoded data removed]",
      "text/plain": [
       "<Figure size 432x288 with 1 Axes>"
      ]
     },
     "metadata": {
      "needs_background": "light"
     },
     "output_type": "display_data"
    }
   ],
   "source": [
    "#서북\n",
    "nw19=plt.bar(x-0.2, NW_sum19,label='2019년',width=0.2, color='blue',alpha=0.5)\n",
    "nw20=plt.bar(x-0.0, NW_sum20,label='2020년',width=0.2, color='red',alpha=0.5)\n",
    "\n",
    "plt.title('분기별 서북권 매출', fontsize=10)\n",
    "\n",
    "plt.xlabel('분기', fontsize=9)\n",
    "\n",
    "plt.ylabel('매출', fontsize=9)\n",
    "\n",
    "plt.xticks(x, label, fontsize=7)\n",
    "\n",
    "plt.legend((nw19[0], nw20[0]), ('2019년', '2020년'), fontsize=7)"
   ]
  },
  {
   "cell_type": "code",
   "execution_count": 161,
   "metadata": {},
   "outputs": [
    {
     "data": {
      "text/plain": [
       "<matplotlib.legend.Legend at 0x20d30a9f1f0>"
      ]
     },
     "execution_count": 161,
     "metadata": {},
     "output_type": "execute_result"
    },
    {
     "data": {
      "image/png": "[encoded data removed]",
      "text/plain": [
       "<Figure size 432x288 with 1 Axes>"
      ]
     },
     "metadata": {
      "needs_background": "light"
     },
     "output_type": "display_data"
    }
   ],
   "source": [
    "#동남\n",
    "se19=plt.bar(x-0.2, SE_sum19,label='2019년',width=0.2, color='blue',alpha=0.5)\n",
    "se20=plt.bar(x-0.0, SE_sum20,label='2020년',width=0.2, color='red',alpha=0.5)\n",
    "\n",
    "plt.title('분기별 동남권 매출', fontsize=10)\n",
    "\n",
    "plt.xlabel('분기', fontsize=9)\n",
    "\n",
    "plt.ylabel('매출', fontsize=9)\n",
    "\n",
    "plt.xticks(x, label, fontsize=7)\n",
    "\n",
    "plt.legend((se19[0], se20[0]), ('2019년', '2020년'), fontsize=7)"
   ]
  },
  {
   "cell_type": "code",
   "execution_count": 162,
   "metadata": {},
   "outputs": [
    {
     "data": {
      "text/plain": [
       "<matplotlib.legend.Legend at 0x20d30b69be0>"
      ]
     },
     "execution_count": 162,
     "metadata": {},
     "output_type": "execute_result"
    },
    {
     "data": {
      "image/png": "[encoded data removed]",
      "text/plain": [
       "<Figure size 432x288 with 1 Axes>"
      ]
     },
     "metadata": {
      "needs_background": "light"
     },
     "output_type": "display_data"
    }
   ],
   "source": [
    "#서남\n",
    "sw19=plt.bar(x-0.2, SW_sum19,label='2019년',width=0.2, color='blue',alpha=0.5)\n",
    "sw20=plt.bar(x-0.0, SW_sum20,label='2020년',width=0.2, color='red',alpha=0.5)\n",
    "\n",
    "plt.title('분기별 서남권 매출', fontsize=10)\n",
    "\n",
    "plt.xlabel('분기', fontsize=9)\n",
    "\n",
    "plt.ylabel('매출', fontsize=9)\n",
    "\n",
    "plt.xticks(x, label, fontsize=7)\n",
    "\n",
    "plt.legend((sw19[0], sw20[0]), ('2019년', '2020년'), fontsize=7)"
   ]
  },
  {
   "cell_type": "code",
   "execution_count": 163,
   "metadata": {},
   "outputs": [],
   "source": [
    "#각 생활권의 년도별 총 매출 그래프\n",
    "\n",
    "#도심권\n",
    "sum_of_dt_19=D_sum19.sum()\n",
    "sum_of_dt_20=D_sum20.sum()\n",
    "#동북\n",
    "sum_of_ne_19=NE_sum19.sum()\n",
    "sum_of_ne_20=NE_sum20.sum()\n",
    "#서북\n",
    "sum_of_nw_19=NW_sum19.sum()\n",
    "sum_of_nw_20=NW_sum20.sum()\n",
    "#동남\n",
    "sum_of_se_19=SE_sum19.sum()\n",
    "sum_of_se_20=SE_sum20.sum()\n",
    "#서남\n",
    "sum_of_sw_19=SW_sum19.sum()\n",
    "sum_of_sw_20=SW_sum20.sum()\n",
    "\n",
    "#서울시 전체\n",
    "sum_of_seoul_19=sum_of_dt_19+sum_of_ne_19+sum_of_nw_19+sum_of_se_19+sum_of_sw_19\n",
    "sum_of_seoul_20=sum_of_dt_20+sum_of_ne_20+sum_of_nw_20+sum_of_se_20+sum_of_sw_20\n",
    "\n"
   ]
  },
  {
   "cell_type": "code",
   "execution_count": 164,
   "metadata": {},
   "outputs": [
    {
     "data": {
      "text/plain": [
       "<matplotlib.legend.Legend at 0x20d200b9610>"
      ]
     },
     "execution_count": 164,
     "metadata": {},
     "output_type": "execute_result"
    },
    {
     "data": {
      "image/png": "[encoded data removed]",
      "text/plain": [
       "<Figure size 432x288 with 1 Axes>"
      ]
     },
     "metadata": {
      "needs_background": "light"
     },
     "output_type": "display_data"
    }
   ],
   "source": [
    "sum2019=[sum_of_dt_19,sum_of_ne_19,sum_of_nw_19,sum_of_se_19,sum_of_sw_19,sum_of_seoul_19]\n",
    "sum2020=[sum_of_dt_20,sum_of_ne_20,sum_of_nw_20,sum_of_se_20,sum_of_sw_20,sum_of_seoul_20]\n",
    "\n",
    "name=['도심','동북','서북','동남','서남','서울']\n",
    "\n",
    "bar_width=0.2\n",
    "index=np.arange(len(name))\n",
    "\n",
    "p1=plt.bar(index, sum2019, color='blue', width=bar_width, label='2019',alpha=0.6)\n",
    "p2=plt.bar(index+bar_width, sum2020, color='red', width=bar_width, label='2020',alpha=0.6)\n",
    "\n",
    "plt.title('생활권 별 2019년, 2020년 총 매출',fontsize=10)\n",
    "plt.xlabel('생활권', fontsize=9)\n",
    "plt.ylabel('총 매출',fontsize=9)\n",
    "\n",
    "plt.xticks(index, name, fontsize=7)\n",
    "plt.legend((p1[0], p2[0]), ('2019년', '2020년'), fontsize=7)"
   ]
  },
  {
   "cell_type": "code",
   "execution_count": null,
   "metadata": {},
   "outputs": [],
   "source": [
    "#모든 생활권에서 2020년 4분기 매출이 2019년 동분기 매출보다 줄었음\n",
    "#허나 코로나로 인해 2019년에 비해 매출이 줄었을 것이라는 예상과 달리 1,2,3분기 매출의 경우 2020년이 2019년보다 늘었음\n",
    "#따라서, 추후에 점포수에 변화가 있는지, 업종별로는 어떤 변화가 있는지 확인해야 함"
   ]
  }
 ],
 "metadata": {
  "kernelspec": {
   "display_name": "Python 3",
   "language": "python",
   "name": "python3"
  },
  "language_info": {
   "codemirror_mode": {
    "name": "ipython",
    "version": 3
   },
   "file_extension": ".py",
   "mimetype": "text/x-python",
   "name": "python",
   "nbconvert_exporter": "python",
   "pygments_lexer": "ipython3",
   "version": "3.8.5"
  }
 },
 "nbformat": 4,
 "nbformat_minor": 4
}
