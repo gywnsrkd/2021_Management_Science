{
 "cells": [
  {
   "cell_type": "code",
   "execution_count": 151,
   "metadata": {},
   "outputs": [
    {
     "name": "stderr",
     "output_type": "stream",
     "text": [
      "C:\\Users\\dhwld\\anaconda3\\lib\\site-packages\\IPython\\core\\interactiveshell.py:3146: DtypeWarning: Columns (10) have mixed types.Specify dtype option on import or set low_memory=False.\n",
      "  has_raised = await self.run_ast_nodes(code_ast.body, cell_name,\n"
     ]
    }
   ],
   "source": [
    "#데이터 불러오기\n",
    "\n",
    "import pandas as pd\n",
    "import numpy as np\n",
    "\n",
    "import matplotlib.pyplot as plt\n",
    "\n",
    "from datetime import date\n",
    "\n",
    "data_20=pd.read_csv('sales2020.csv', encoding='utf-8')\n",
    "data_19=pd.read_csv('sales2019.csv', encoding='utf-8')\n",
    "area=pd.read_csv('area.csv', encoding='utf-8')\n",
    "virus=pd.read_csv('covid19.csv', encoding='utf_8')"
   ]
  },
  {
   "cell_type": "code",
   "execution_count": 152,
   "metadata": {},
   "outputs": [],
   "source": [
    "#상권코드와 시군구 코드만 들어있는 데이터프레임 생성\n",
    "\n",
    "com_admin=area[['상권_코드', '시군구_코드']]"
   ]
  },
  {
   "cell_type": "code",
   "execution_count": 153,
   "metadata": {},
   "outputs": [],
   "source": [
    "#추정매출 데이터 중 필요한 정보만 포함된 데이터프레임 생성\n",
    "\n",
    "#2020년\n",
    "sales20=data_20[['기준_분기_코드', '상권_코드','서비스_업종_코드','분기당_매출_금액','분기당_매출_건수','점포수']]\n",
    "\n",
    "#2019년\n",
    "sales19=data_19[['기준_분기_코드', '상권_코드','서비스_업종_코드','분기당_매출_금액','분기당_매출_건수','점포수']]\n"
   ]
  },
  {
   "cell_type": "code",
   "execution_count": 154,
   "metadata": {},
   "outputs": [],
   "source": [
    "#코로나 확진자 데이터 중 확진일과 지역(자치구)만 포함된 데이터프레임 생성\n",
    "\n",
    "covid=virus[['확진일','지역']]"
   ]
  },
  {
   "cell_type": "code",
   "execution_count": 155,
   "metadata": {},
   "outputs": [],
   "source": [
    "#시군구 코드 데이터와 추정매출 데이터 병합\n",
    "\n",
    "#2020년\n",
    "main20=pd.merge(sales20, com_admin)\n",
    "\n",
    "#2019년\n",
    "main19=pd.merge(sales19, com_admin)\n"
   ]
  },
  {
   "cell_type": "code",
   "execution_count": 156,
   "metadata": {},
   "outputs": [],
   "source": [
    "#11110 종로구\n",
    "Jongno20=main20[main20['시군구_코드']==11110]\n",
    "Jongno19=main19[main19['시군구_코드']==11110]\n",
    "\n",
    "#11140 중구\n",
    "Jung20=main20[main20['시군구_코드']==11140]\n",
    "Jung19=main19[main19['시군구_코드']==11140]\n",
    "\n",
    "#11170 용산구\n",
    "Yongsan20=main20[main20['시군구_코드']==11170]\n",
    "Yongsan19=main19[main19['시군구_코드']==11170]\n",
    "\n",
    "#11200 성동구\n",
    "Seongdong20=main20[main20['시군구_코드']==11200]\n",
    "Seongdong19=main19[main19['시군구_코드']==11200]\n",
    "\n",
    "#11215 광진구\n",
    "Gwangjin20=main20[main20['시군구_코드']==11215]\n",
    "Gwangjin19=main19[main19['시군구_코드']==11215]\n",
    "\n",
    "#11230 동대문구\n",
    "Dongdaemun20=main20[main20['시군구_코드']==11230]\n",
    "Dongdaemun19=main19[main19['시군구_코드']==11230]\n",
    "\n",
    "#11260 중랑구\n",
    "Jungnang20=main20[main20['시군구_코드']==11260]\n",
    "Jungnang19=main19[main19['시군구_코드']==11260]\n",
    "\n",
    "#11290 성북구\n",
    "Seongbuk20=main20[main20['시군구_코드']==11290]\n",
    "Seongbuk19=main19[main19['시군구_코드']==11290]\n",
    "\n",
    "#11305 강북구\n",
    "Gangbuk20=main20[main20['시군구_코드']==11305]\n",
    "Gangbuk19=main19[main19['시군구_코드']==11305]\n",
    "\n",
    "#11320 도봉구\n",
    "Dobong20=main20[main20['시군구_코드']==11320]\n",
    "Dobong19=main19[main19['시군구_코드']==11320]\n",
    "\n",
    "#11350 노원구\n",
    "Nowon20=main20[main20['시군구_코드']==11350]\n",
    "Nowon19=main19[main19['시군구_코드']==11350]\n",
    "\n",
    "#11380 은평구\n",
    "Eunpyeong20=main20[main20['시군구_코드']==11380]\n",
    "Eunpyeong19=main19[main19['시군구_코드']==11380]\n",
    "\n",
    "#11410 서대문구\n",
    "Seodaemun20=main20[main20['시군구_코드']==11410]\n",
    "Seodaemun19=main19[main19['시군구_코드']==11410]\n",
    "\n",
    "#11440 마포구\n",
    "Mapo20=main20[main20['시군구_코드']==11440]\n",
    "Mapo19=main19[main19['시군구_코드']==11440]\n",
    "\n",
    "#11470 양천구\n",
    "Yangcheon20=main20[main20['시군구_코드']==11470]\n",
    "Yangcheon19=main19[main19['시군구_코드']==11470]\n",
    "\n",
    "#11500 강서구\n",
    "Gangseo20=main20[main20['시군구_코드']==11500]\n",
    "Gangseo19=main19[main19['시군구_코드']==11500]\n",
    "\n",
    "#11530 구로구\n",
    "Guro20=main20[main20['시군구_코드']==11530]\n",
    "Guro19=main19[main19['시군구_코드']==11530]\n",
    "\n",
    "#11545 금천구\n",
    "Geumcheon20=main20[main20['시군구_코드']==11545]\n",
    "Geumcheon19=main19[main19['시군구_코드']==11545]\n",
    "\n",
    "#11560 영등포구\n",
    "Yeongdeungpo20=main20[main20['시군구_코드']==11560]\n",
    "Yeongdeungpo19=main19[main19['시군구_코드']==11560]\n",
    "\n",
    "#11590 동작구\n",
    "Dongjak20=main20[main20['시군구_코드']==11590]\n",
    "Dongjak19=main19[main19['시군구_코드']==11590]\n",
    "\n",
    "#11620 관악구\n",
    "Gwanak20=main20[main20['시군구_코드']==11620]\n",
    "Gwanak19=main19[main19['시군구_코드']==11620]\n",
    "\n",
    "#11650 서초구\n",
    "Seocho20=main20[main20['시군구_코드']==11650]\n",
    "Seocho19=main19[main19['시군구_코드']==11650]\n",
    "\n",
    "#11680 강남구\n",
    "Gangnam20=main20[main20['시군구_코드']==11680]\n",
    "Gangnam19=main19[main19['시군구_코드']==11680]\n",
    "\n",
    "#11710 송파구\n",
    "Songpa20=main20[main20['시군구_코드']==11710]\n",
    "Songpa19=main19[main19['시군구_코드']==11710]\n",
    "\n",
    "#11740 강동구\n",
    "Gangdong20=main20[main20['시군구_코드']==11740]\n",
    "Gangdong19=main19[main19['시군구_코드']==11740]\n"
   ]
  },
  {
   "cell_type": "code",
   "execution_count": 157,
   "metadata": {},
   "outputs": [],
   "source": [
    "#도심권\n",
    "Downtown20=pd.concat([Jongno20,Jung20, Yongsan20])\n",
    "Downtown19=pd.concat([Jongno19,Jung19, Yongsan19])\n",
    "\n",
    "#동북권\n",
    "Northeast20=pd.concat([Dongdaemun20,Seongdong20,Gwangjin20,Jungnang20,Seongbuk20,Gangbuk20,Dobong20,Nowon20])\n",
    "Northeast19=pd.concat([Dongdaemun19,Seongdong19,Gwangjin19,Jungnang19,Seongbuk19,Gangbuk19,Dobong19,Nowon19])\n",
    "\n",
    "#서북권\n",
    "Northwest20=pd.concat([Eunpyeong20,Seodaemun20,Mapo20])\n",
    "Northwest19=pd.concat([Eunpyeong19,Seodaemun19,Mapo19])\n",
    "\n",
    "#동남권\n",
    "Southeast20=pd.concat([Seocho20,Gangnam20,Songpa20,Gangdong20])\n",
    "Southeast19=pd.concat([Seocho19,Gangnam19,Songpa19,Gangdong19])\n",
    "\n",
    "#서남권\n",
    "Southwest20=pd.concat([Gangseo20,Yangcheon20,Guro20,Geumcheon20,Yeongdeungpo20,Dongjak20,Gwanak20])\n",
    "Southwest19=pd.concat([Gangseo19,Yangcheon19,Guro19,Geumcheon19,Yeongdeungpo19,Dongjak19,Gwanak19])"
   ]
  },
  {
   "cell_type": "code",
   "execution_count": 158,
   "metadata": {},
   "outputs": [],
   "source": [
    "#각 분기별로 매출 금액의 합계를 구하기\n",
    "\n",
    "#2020년--------------------------------------\n",
    "\n",
    "#도심권\n",
    "D_group20=Downtown20.groupby('기준_분기_코드')\n",
    "D_sum20=D_group20['분기당_매출_금액'].sum()\n",
    "\n",
    "#동북권\n",
    "NE20=Northeast20.groupby('기준_분기_코드')\n",
    "NE_sum20=NE20['분기당_매출_금액'].sum()\n",
    "\n",
    "#서북권\n",
    "NW20=Northwest20.groupby('기준_분기_코드')\n",
    "NW_sum20=NW20['분기당_매출_금액'].sum()\n",
    "\n",
    "#동남권\n",
    "SE20=Southeast20.groupby('기준_분기_코드')\n",
    "SE_sum20=SE20['분기당_매출_금액'].sum()\n",
    "\n",
    "#서남권\n",
    "SW20=Southwest20.groupby('기준_분기_코드')\n",
    "SW_sum20=SW20['분기당_매출_금액'].sum()\n",
    "\n",
    "#2019년----------------------------------------\n",
    "\n",
    "#도심권\n",
    "D_group19=Downtown19.groupby('기준_분기_코드')\n",
    "D_sum19=D_group19['분기당_매출_금액'].sum()\n",
    "\n",
    "#동북권\n",
    "NE19=Northeast19.groupby('기준_분기_코드')\n",
    "NE_sum19=NE19['분기당_매출_금액'].sum()\n",
    "\n",
    "#서북권\n",
    "NW19=Northwest19.groupby('기준_분기_코드')\n",
    "NW_sum19=NW19['분기당_매출_금액'].sum()\n",
    "\n",
    "#동남권\n",
    "SE19=Southeast19.groupby('기준_분기_코드')\n",
    "SE_sum19=SE19['분기당_매출_금액'].sum()\n",
    "\n",
    "#서남권\n",
    "SW19=Southwest19.groupby('기준_분기_코드')\n",
    "SW_sum19=SW19['분기당_매출_금액'].sum()\n"
   ]
  },
  {
   "cell_type": "code",
   "execution_count": 159,
   "metadata": {},
   "outputs": [],
   "source": [
    "#막대그래프 한글 설정\n",
    "\n",
    "from matplotlib import font_manager, rc\n",
    "font_path = \"C:/Windows/Fonts/NGULIM.TTF\"\n",
    "font = font_manager.FontProperties(fname=font_path).get_name()\n",
    "rc('font', family=font)\n"
   ]
  },
  {
   "cell_type": "code",
   "execution_count": 160,
   "metadata": {
    "scrolled": true
   },
   "outputs": [
    {
     "data": {
      "text/plain": [
       "<matplotlib.legend.Legend at 0x22e052c18e0>"
      ]
     },
     "execution_count": 160,
     "metadata": {},
     "output_type": "execute_result"
    },
    {
     "data": {
      "image/png": "[encoded data removed]",
      "text/plain": [
       "<Figure size 432x288 with 1 Axes>"
      ]
     },
     "metadata": {
      "needs_background": "light"
     },
     "output_type": "display_data"
    }
   ],
   "source": [
    "#생활권 별 매출 합계 그래프 그리기\n",
    "\n",
    "#2020년\n",
    "\n",
    "label=['1','2','3','4']\n",
    "x=np.arange(len(label))\n",
    "\n",
    "p1_20=plt.bar(x-0.24, D_sum20,label='도심권',width=0.12, color='red',alpha=0.5)\n",
    "p2_20=plt.bar(x-0.12, NE_sum20, label='동북권',width=0.12, color='orange',alpha=0.5)\n",
    "p3_20=plt.bar(x-0.0, NW_sum20, label='서북권',width=0.12, color='green',alpha=0.5)\n",
    "p4_20=plt.bar(x+0.12, SE_sum20, label='동남권',width=0.12, color='blue',alpha=0.5)\n",
    "p5_20=plt.bar(x+0.24, SW_sum20, label='서남권',width=0.12, color='black',alpha=0.5)\n",
    "\n",
    "plt.title('2020년 생활권 별 매출 합계', fontsize=10)\n",
    "\n",
    "plt.xlabel('분기', fontsize=9)\n",
    "\n",
    "plt.ylabel('매출', fontsize=9)\n",
    "\n",
    "plt.xticks(x, label, fontsize=7)\n",
    "\n",
    "plt.legend((p1_20[0], p2_20[0],p3_20[0],p4_20[0],p5_20[0]), ('도심권', '동북권','서북권','동남권','서남권'), fontsize=7)\n"
   ]
  },
  {
   "cell_type": "code",
   "execution_count": 161,
   "metadata": {},
   "outputs": [
    {
     "data": {
      "text/plain": [
       "<matplotlib.legend.Legend at 0x22e7961d9d0>"
      ]
     },
     "execution_count": 161,
     "metadata": {},
     "output_type": "execute_result"
    },
    {
     "data": {
      "image/png": "[encoded data removed]",
      "text/plain": [
       "<Figure size 432x288 with 1 Axes>"
      ]
     },
     "metadata": {
      "needs_background": "light"
     },
     "output_type": "display_data"
    }
   ],
   "source": [
    "#2019년\n",
    "\n",
    "p1_19=plt.bar(x-0.24, D_sum19,label='도심권',width=0.12, color='red',alpha=0.5)\n",
    "p2_19=plt.bar(x-0.12, NE_sum19, label='동북권',width=0.12, color='orange',alpha=0.5)\n",
    "p3_19=plt.bar(x-0.0, NW_sum19, label='서북권',width=0.12, color='green',alpha=0.5)\n",
    "p4_19=plt.bar(x+0.12, SE_sum19, label='동남권',width=0.12, color='blue',alpha=0.5)\n",
    "p5_19=plt.bar(x+0.24, SW_sum19, label='서남권',width=0.12, color='black',alpha=0.5)\n",
    "\n",
    "plt.title('2019년 생활권 별 매출 합계', fontsize=10)\n",
    "\n",
    "plt.xlabel('분기', fontsize=9)\n",
    "\n",
    "plt.ylabel('매출', fontsize=9)\n",
    "\n",
    "plt.xticks(x, label, fontsize=7)\n",
    "\n",
    "plt.legend((p1_19[0], p2_19[0],p3_19[0],p4_19[0],p5_19[0]), ('도심권', '동북권','서북권','동남권','서남권'), fontsize=7)\n",
    "\n"
   ]
  },
  {
   "cell_type": "code",
   "execution_count": 162,
   "metadata": {},
   "outputs": [],
   "source": [
    "#2019년, 2020년 모두 동남권>도심권>서남권>동북권>서북권 순으로 매출 합계가 큼\n",
    "\n"
   ]
  },
  {
   "cell_type": "code",
   "execution_count": 163,
   "metadata": {},
   "outputs": [
    {
     "data": {
      "text/plain": [
       "<matplotlib.legend.Legend at 0x22e0545a6d0>"
      ]
     },
     "execution_count": 163,
     "metadata": {},
     "output_type": "execute_result"
    },
    {
     "data": {
      "image/png": "[encoded data removed]",
      "text/plain": [
       "<Figure size 432x288 with 1 Axes>"
      ]
     },
     "metadata": {
      "needs_background": "light"
     },
     "output_type": "display_data"
    }
   ],
   "source": [
    "#각 생활권의 2019년, 2020년 분기별 매출 그래프\n",
    "\n",
    "#도심권\n",
    "d19=plt.bar(x-0.2, D_sum19,label='2019년',width=0.2, color='blue',alpha=0.5)\n",
    "d20=plt.bar(x-0.0, D_sum20,label='2020년',width=0.2, color='red',alpha=0.5)\n",
    "\n",
    "plt.title('분기별 도심권 매출', fontsize=10)\n",
    "\n",
    "plt.xlabel('분기', fontsize=9)\n",
    "\n",
    "plt.ylabel('매출', fontsize=9)\n",
    "\n",
    "plt.xticks(x, label, fontsize=7)\n",
    "\n",
    "plt.legend((d19[0], d20[0]), ('2019년', '2020년'), fontsize=7)"
   ]
  },
  {
   "cell_type": "code",
   "execution_count": 164,
   "metadata": {},
   "outputs": [
    {
     "data": {
      "text/plain": [
       "<matplotlib.legend.Legend at 0x22e02648d00>"
      ]
     },
     "execution_count": 164,
     "metadata": {},
     "output_type": "execute_result"
    },
    {
     "data": {
      "image/png": "[encoded data removed]",
      "text/plain": [
       "<Figure size 432x288 with 1 Axes>"
      ]
     },
     "metadata": {
      "needs_background": "light"
     },
     "output_type": "display_data"
    }
   ],
   "source": [
    "#동북\n",
    "ne19=plt.bar(x-0.2, NE_sum19,label='2019년',width=0.2, color='blue',alpha=0.5)\n",
    "ne20=plt.bar(x-0.0, NE_sum20,label='2020년',width=0.2, color='red',alpha=0.5)\n",
    "\n",
    "plt.title('분기별 동북권 매출', fontsize=10)\n",
    "\n",
    "plt.xlabel('분기', fontsize=9)\n",
    "\n",
    "plt.ylabel('매출', fontsize=9)\n",
    "\n",
    "plt.xticks(x, label, fontsize=7)\n",
    "\n",
    "plt.legend((ne19[0], ne20[0]), ('2019년', '2020년'), fontsize=7)"
   ]
  },
  {
   "cell_type": "code",
   "execution_count": 165,
   "metadata": {},
   "outputs": [
    {
     "data": {
      "text/plain": [
       "<matplotlib.legend.Legend at 0x22e07dc53d0>"
      ]
     },
     "execution_count": 165,
     "metadata": {},
     "output_type": "execute_result"
    },
    {
     "data": {
      "image/png": "[encoded data removed]",
      "text/plain": [
       "<Figure size 432x288 with 1 Axes>"
      ]
     },
     "metadata": {
      "needs_background": "light"
     },
     "output_type": "display_data"
    }
   ],
   "source": [
    "#서북\n",
    "nw19=plt.bar(x-0.2, NW_sum19,label='2019년',width=0.2, color='blue',alpha=0.5)\n",
    "nw20=plt.bar(x-0.0, NW_sum20,label='2020년',width=0.2, color='red',alpha=0.5)\n",
    "\n",
    "plt.title('분기별 서북권 매출', fontsize=10)\n",
    "\n",
    "plt.xlabel('분기', fontsize=9)\n",
    "\n",
    "plt.ylabel('매출', fontsize=9)\n",
    "\n",
    "plt.xticks(x, label, fontsize=7)\n",
    "\n",
    "plt.legend((nw19[0], nw20[0]), ('2019년', '2020년'), fontsize=7)"
   ]
  },
  {
   "cell_type": "code",
   "execution_count": 166,
   "metadata": {},
   "outputs": [
    {
     "data": {
      "text/plain": [
       "<matplotlib.legend.Legend at 0x22e028704f0>"
      ]
     },
     "execution_count": 166,
     "metadata": {},
     "output_type": "execute_result"
    },
    {
     "data": {
      "image/png": "[encoded data removed]",
      "text/plain": [
       "<Figure size 432x288 with 1 Axes>"
      ]
     },
     "metadata": {
      "needs_background": "light"
     },
     "output_type": "display_data"
    }
   ],
   "source": [
    "#동남\n",
    "se19=plt.bar(x-0.2, SE_sum19,label='2019년',width=0.2, color='blue',alpha=0.5)\n",
    "se20=plt.bar(x-0.0, SE_sum20,label='2020년',width=0.2, color='red',alpha=0.5)\n",
    "\n",
    "plt.title('분기별 동남권 매출', fontsize=10)\n",
    "\n",
    "plt.xlabel('분기', fontsize=9)\n",
    "\n",
    "plt.ylabel('매출', fontsize=9)\n",
    "\n",
    "plt.xticks(x, label, fontsize=7)\n",
    "\n",
    "plt.legend((se19[0], se20[0]), ('2019년', '2020년'), fontsize=7)"
   ]
  },
  {
   "cell_type": "code",
   "execution_count": 167,
   "metadata": {},
   "outputs": [
    {
     "data": {
      "text/plain": [
       "<matplotlib.legend.Legend at 0x22e0539e760>"
      ]
     },
     "execution_count": 167,
     "metadata": {},
     "output_type": "execute_result"
    },
    {
     "data": {
      "image/png": "[encoded data removed]",
      "text/plain": [
       "<Figure size 432x288 with 1 Axes>"
      ]
     },
     "metadata": {
      "needs_background": "light"
     },
     "output_type": "display_data"
    }
   ],
   "source": [
    "#서남\n",
    "sw19=plt.bar(x-0.2, SW_sum19,label='2019년',width=0.2, color='blue',alpha=0.5)\n",
    "sw20=plt.bar(x-0.0, SW_sum20,label='2020년',width=0.2, color='red',alpha=0.5)\n",
    "\n",
    "plt.title('분기별 서남권 매출', fontsize=10)\n",
    "\n",
    "plt.xlabel('분기', fontsize=9)\n",
    "\n",
    "plt.ylabel('매출', fontsize=9)\n",
    "\n",
    "plt.xticks(x, label, fontsize=7)\n",
    "\n",
    "plt.legend((sw19[0], sw20[0]), ('2019년', '2020년'), fontsize=7)"
   ]
  },
  {
   "cell_type": "code",
   "execution_count": 168,
   "metadata": {},
   "outputs": [],
   "source": [
    "#각 생활권의 년도별 총 매출 그래프\n",
    "\n",
    "#도심권\n",
    "sum_of_dt_19=D_sum19.sum()\n",
    "sum_of_dt_20=D_sum20.sum()\n",
    "#동북\n",
    "sum_of_ne_19=NE_sum19.sum()\n",
    "sum_of_ne_20=NE_sum20.sum()\n",
    "#서북\n",
    "sum_of_nw_19=NW_sum19.sum()\n",
    "sum_of_nw_20=NW_sum20.sum()\n",
    "#동남\n",
    "sum_of_se_19=SE_sum19.sum()\n",
    "sum_of_se_20=SE_sum20.sum()\n",
    "#서남\n",
    "sum_of_sw_19=SW_sum19.sum()\n",
    "sum_of_sw_20=SW_sum20.sum()\n",
    "\n",
    "#서울시 전체\n",
    "sum_of_seoul_19=sum_of_dt_19+sum_of_ne_19+sum_of_nw_19+sum_of_se_19+sum_of_sw_19\n",
    "sum_of_seoul_20=sum_of_dt_20+sum_of_ne_20+sum_of_nw_20+sum_of_se_20+sum_of_sw_20\n",
    "\n"
   ]
  },
  {
   "cell_type": "code",
   "execution_count": 169,
   "metadata": {},
   "outputs": [
    {
     "data": {
      "text/plain": [
       "<matplotlib.legend.Legend at 0x22e0210dac0>"
      ]
     },
     "execution_count": 169,
     "metadata": {},
     "output_type": "execute_result"
    },
    {
     "data": {
      "image/png": "[encoded data removed]",
      "text/plain": [
       "<Figure size 432x288 with 1 Axes>"
      ]
     },
     "metadata": {
      "needs_background": "light"
     },
     "output_type": "display_data"
    }
   ],
   "source": [
    "sum2019=[sum_of_dt_19,sum_of_ne_19,sum_of_nw_19,sum_of_se_19,sum_of_sw_19,sum_of_seoul_19]\n",
    "sum2020=[sum_of_dt_20,sum_of_ne_20,sum_of_nw_20,sum_of_se_20,sum_of_sw_20,sum_of_seoul_20]\n",
    "\n",
    "name=['도심','동북','서북','동남','서남','서울']\n",
    "\n",
    "bar_width=0.2\n",
    "index=np.arange(len(name))\n",
    "\n",
    "p1=plt.bar(index, sum2019, color='blue', width=bar_width, label='2019',alpha=0.6)\n",
    "p2=plt.bar(index+bar_width, sum2020, color='red', width=bar_width, label='2020',alpha=0.6)\n",
    "\n",
    "plt.title('생활권 별 2019년, 2020년 총 매출',fontsize=10)\n",
    "plt.xlabel('생활권', fontsize=9)\n",
    "plt.ylabel('총 매출',fontsize=9)\n",
    "\n",
    "plt.xticks(index, name, fontsize=7)\n",
    "plt.legend((p1[0], p2[0]), ('2019년', '2020년'), fontsize=7)"
   ]
  },
  {
   "cell_type": "code",
   "execution_count": 170,
   "metadata": {},
   "outputs": [],
   "source": [
    "#모든 생활권에서 2020년 4분기 매출이 2019년 동분기 매출보다 줄었음\n",
    "#허나 코로나로 인해 2019년에 비해 매출이 줄었을 것이라는 예상과 달리 1,2,3분기 매출의 경우 2020년이 2019년보다 늘었음\n",
    "#따라서, 추후에 점포수에 변화가 있는지, 업종별로는 어떤 변화가 있는지 확인해야 함"
   ]
  },
  {
   "cell_type": "code",
   "execution_count": 171,
   "metadata": {},
   "outputs": [
    {
     "data": {
      "text/plain": [
       "'\\n여기까지 중간 발표\\n'"
      ]
     },
     "execution_count": 171,
     "metadata": {},
     "output_type": "execute_result"
    }
   ],
   "source": [
    "\"\"\"\n",
    "여기까지 중간 발표\n",
    "\"\"\""
   ]
  },
  {
   "cell_type": "code",
   "execution_count": 217,
   "metadata": {},
   "outputs": [
    {
     "data": {
      "text/html": [
       "<div>\n",
       "<style scoped>\n",
       "    .dataframe tbody tr th:only-of-type {\n",
       "        vertical-align: middle;\n",
       "    }\n",
       "\n",
       "    .dataframe tbody tr th {\n",
       "        vertical-align: top;\n",
       "    }\n",
       "\n",
       "    .dataframe thead th {\n",
       "        text-align: right;\n",
       "    }\n",
       "</style>\n",
       "<table border=\"1\" class=\"dataframe\">\n",
       "  <thead>\n",
       "    <tr style=\"text-align: right;\">\n",
       "      <th></th>\n",
       "      <th>datetime format</th>\n",
       "      <th>자치구</th>\n",
       "      <th>Year</th>\n",
       "      <th>Month</th>\n",
       "    </tr>\n",
       "  </thead>\n",
       "  <tbody>\n",
       "    <tr>\n",
       "      <th>0</th>\n",
       "      <td>2021-11-23</td>\n",
       "      <td>관악구</td>\n",
       "      <td>2021</td>\n",
       "      <td>11</td>\n",
       "    </tr>\n",
       "    <tr>\n",
       "      <th>1</th>\n",
       "      <td>2021-11-23</td>\n",
       "      <td>동대문구</td>\n",
       "      <td>2021</td>\n",
       "      <td>11</td>\n",
       "    </tr>\n",
       "    <tr>\n",
       "      <th>2</th>\n",
       "      <td>2021-11-23</td>\n",
       "      <td>은평구</td>\n",
       "      <td>2021</td>\n",
       "      <td>11</td>\n",
       "    </tr>\n",
       "    <tr>\n",
       "      <th>3</th>\n",
       "      <td>2021-11-23</td>\n",
       "      <td>성북구</td>\n",
       "      <td>2021</td>\n",
       "      <td>11</td>\n",
       "    </tr>\n",
       "    <tr>\n",
       "      <th>4</th>\n",
       "      <td>2021-11-23</td>\n",
       "      <td>강동구</td>\n",
       "      <td>2021</td>\n",
       "      <td>11</td>\n",
       "    </tr>\n",
       "    <tr>\n",
       "      <th>5</th>\n",
       "      <td>2021-11-23</td>\n",
       "      <td>중구</td>\n",
       "      <td>2021</td>\n",
       "      <td>11</td>\n",
       "    </tr>\n",
       "    <tr>\n",
       "      <th>6</th>\n",
       "      <td>2021-11-23</td>\n",
       "      <td>강서구</td>\n",
       "      <td>2021</td>\n",
       "      <td>11</td>\n",
       "    </tr>\n",
       "    <tr>\n",
       "      <th>7</th>\n",
       "      <td>2021-11-23</td>\n",
       "      <td>중구</td>\n",
       "      <td>2021</td>\n",
       "      <td>11</td>\n",
       "    </tr>\n",
       "    <tr>\n",
       "      <th>8</th>\n",
       "      <td>2021-11-23</td>\n",
       "      <td>타시도</td>\n",
       "      <td>2021</td>\n",
       "      <td>11</td>\n",
       "    </tr>\n",
       "    <tr>\n",
       "      <th>9</th>\n",
       "      <td>2021-11-23</td>\n",
       "      <td>타시도</td>\n",
       "      <td>2021</td>\n",
       "      <td>11</td>\n",
       "    </tr>\n",
       "  </tbody>\n",
       "</table>\n",
       "</div>"
      ],
      "text/plain": [
       "  datetime format   자치구  Year  Month\n",
       "0      2021-11-23   관악구  2021     11\n",
       "1      2021-11-23  동대문구  2021     11\n",
       "2      2021-11-23   은평구  2021     11\n",
       "3      2021-11-23   성북구  2021     11\n",
       "4      2021-11-23   강동구  2021     11\n",
       "5      2021-11-23    중구  2021     11\n",
       "6      2021-11-23   강서구  2021     11\n",
       "7      2021-11-23    중구  2021     11\n",
       "8      2021-11-23   타시도  2021     11\n",
       "9      2021-11-23   타시도  2021     11"
      ]
     },
     "execution_count": 217,
     "metadata": {},
     "output_type": "execute_result"
    }
   ],
   "source": [
    "#코로나 확진자 현황 데이터 전처리\n",
    "covid19_df=pd.DataFrame({'datetime format': pd.to_datetime(covid['확진일']), '자치구': covid['지역']})\n",
    "\n",
    "covid19_df['Year'] = covid19_df['datetime format'].dt.year \n",
    "covid19_df['Month'] = covid19_df['datetime format'].dt.month \n",
    "\n",
    "covid19_df.head(10)"
   ]
  },
  {
   "cell_type": "code",
   "execution_count": 218,
   "metadata": {},
   "outputs": [],
   "source": [
    "#2020년도만 볼 것이므로 2021년 데이터 삭제\n",
    "idx1=covid19_df[covid19_df['Year']==2021].index\n",
    "covid19_df=covid19_df.drop(idx1)\n",
    "\n",
    "#자치구 정보가 '기타','타시도'인 데이터 삭제\n",
    "idx2=covid19_df[covid19_df['자치구']=='기타'].index\n",
    "idx3=covid19_df[covid19_df['자치구']=='타시도'].index\n",
    "\n",
    "covid19_df=covid19_df.drop(idx2)\n",
    "covid19_df=covid19_df.drop(idx3)"
   ]
  },
  {
   "cell_type": "code",
   "execution_count": 219,
   "metadata": {},
   "outputs": [],
   "source": [
    "#분기별로 나누기\n",
    "\n",
    "is_123=covid19_df['Month']<4\n",
    "\n",
    "is_large_4=covid19_df['Month']>=4\n",
    "is_small_6=covid19_df['Month']<7\n",
    "\n",
    "is_large_7=covid19_df['Month']>=7\n",
    "is_small_9=covid19_df['Month']<10\n",
    "\n",
    "is_large_9=covid19_df['Month']>=10\n",
    "is_small_12=covid19_df['Month']<13\n",
    "\n",
    "\n",
    "df2020_1=covid19_df[is_123]\n",
    "df2020_2=covid19_df[is_large_4 & is_small_6]\n",
    "df2020_3=covid19_df[is_large_7 & is_small_9]\n",
    "df2020_4=covid19_df[is_large_9 & is_small_12]\n"
   ]
  },
  {
   "cell_type": "code",
   "execution_count": 220,
   "metadata": {},
   "outputs": [],
   "source": [
    "#각 분기별 코로나 확진자 수 총합\n",
    "confirmed2020_1=len(df2020_1)\n",
    "confirmed2020_2=len(df2020_2)\n",
    "confirmed2020_3=len(df2020_3)\n",
    "confirmed2020_4=len(df2020_4)"
   ]
  },
  {
   "cell_type": "code",
   "execution_count": 221,
   "metadata": {},
   "outputs": [
    {
     "data": {
      "text/plain": [
       "1      446\n",
       "2      794\n",
       "3     3687\n",
       "4    12162\n",
       "dtype: int64"
      ]
     },
     "execution_count": 221,
     "metadata": {},
     "output_type": "execute_result"
    }
   ],
   "source": [
    "C_dict={1: confirmed2020_1, 2: confirmed2020_2, 3: confirmed2020_3, 4: confirmed2020_4}\n",
    "C_series=pd.Series(C_dict)\n",
    "\n",
    "C_series"
   ]
  },
  {
   "cell_type": "code",
   "execution_count": 222,
   "metadata": {},
   "outputs": [],
   "source": [
    "#=================================================================================================================================="
   ]
  },
  {
   "cell_type": "code",
   "execution_count": 223,
   "metadata": {},
   "outputs": [],
   "source": [
    "#업종별로 구분\n",
    "\n",
    "#도심권 2020년\n",
    "D_code_array20=np.array(Downtown20['서비스_업종_코드'].values.tolist())\n",
    "D_idx20=Downtown20.index\n",
    "\n",
    "D_food_idx_20=[]\n",
    "D_service_idx_20=[]\n",
    "D_retail_idx_20=[]\n",
    "\n",
    "\n",
    "for i in range(len(D_code_array20)):\n",
    "    \n",
    "    if D_code_array20[i][2]=='1':\n",
    "        D_food_idx_20.append(D_idx20[i])\n",
    "        \n",
    "    elif D_code_array20[i][2]=='2':\n",
    "        D_service_idx_20.append(D_idx20[i])\n",
    "        \n",
    "    else:\n",
    "        D_retail_idx_20.append(D_idx20[i])\n",
    "\n",
    "D_food_20=Downtown20.loc[D_food_idx_20]\n",
    "D_service_20=Downtown20.loc[D_service_idx_20]\n",
    "D_retail_20=Downtown20.loc[D_retail_idx_20]\n",
    "\n",
    "\n",
    "#도심권 2019년\n",
    "D_code_array19=np.array(Downtown19['서비스_업종_코드'].values.tolist())\n",
    "D_idx19=Downtown19.index\n",
    "\n",
    "D_food_idx_19=[]\n",
    "D_service_idx_19=[]\n",
    "D_retail_idx_19=[]\n",
    "\n",
    "\n",
    "for i in range(len(D_code_array19)):\n",
    "    if D_code_array19[i][2]=='1':\n",
    "        D_food_idx_19.append(D_idx19[i])\n",
    "        \n",
    "    elif D_code_array19[i][2]=='2':\n",
    "        D_service_idx_19.append(D_idx19[i])\n",
    "        \n",
    "    else:\n",
    "        D_retail_idx_19.append(D_idx19[i])\n",
    "\n",
    "D_food_19=Downtown19.loc[D_food_idx_19]\n",
    "D_service_19=Downtown19.loc[D_service_idx_19]\n",
    "D_retail_19=Downtown19.loc[D_retail_idx_19]\n"
   ]
  },
  {
   "cell_type": "code",
   "execution_count": 224,
   "metadata": {},
   "outputs": [],
   "source": [
    "#동북권 2020년\n",
    "NE_code_array20=np.array(Northeast20['서비스_업종_코드'].values.tolist())\n",
    "NE_idx20=Northeast20.index\n",
    "\n",
    "NE_food_idx_20=[]\n",
    "NE_service_idx_20=[]\n",
    "NE_retail_idx_20=[]\n",
    "\n",
    "\n",
    "for i in range(len(NE_code_array20)):\n",
    "    \n",
    "    if NE_code_array20[i][2]=='1':\n",
    "        NE_food_idx_20.append(NE_idx20[i])\n",
    "        \n",
    "    elif NE_code_array20[i][2]=='2':\n",
    "        NE_service_idx_20.append(NE_idx20[i])\n",
    "        \n",
    "    else:\n",
    "        NE_retail_idx_20.append(NE_idx20[i])\n",
    "\n",
    "NE_food_20=Northeast20.loc[NE_food_idx_20]\n",
    "NE_service_20=Northeast20.loc[NE_service_idx_20]\n",
    "NE_retail_20=Northeast20.loc[NE_retail_idx_20]\n",
    "\n",
    "\n",
    "#동북권 2019년\n",
    "NE_code_array19=np.array(Northeast19['서비스_업종_코드'].values.tolist())\n",
    "NE_idx19=Northeast19.index\n",
    "\n",
    "NE_food_idx_19=[]\n",
    "NE_service_idx_19=[]\n",
    "NE_retail_idx_19=[]\n",
    "\n",
    "\n",
    "for i in range(len(NE_code_array19)):\n",
    "    \n",
    "    if NE_code_array19[i][2]=='1':\n",
    "        NE_food_idx_19.append(NE_idx19[i])\n",
    "        \n",
    "    elif NE_code_array19[i][2]=='2':\n",
    "        NE_service_idx_19.append(NE_idx19[i])\n",
    "        \n",
    "    else:\n",
    "        NE_retail_idx_19.append(NE_idx19[i])\n",
    "\n",
    "NE_food_19=Northeast19.loc[NE_food_idx_19]\n",
    "NE_service_19=Northeast19.loc[NE_service_idx_19]\n",
    "NE_retail_19=Northeast19.loc[NE_retail_idx_19]\n"
   ]
  },
  {
   "cell_type": "code",
   "execution_count": 225,
   "metadata": {},
   "outputs": [],
   "source": [
    "#서북권 2020년\n",
    "NW_code_array20=np.array(Northwest20['서비스_업종_코드'].values.tolist())\n",
    "NW_idx20=Northwest20.index\n",
    "\n",
    "NW_food_idx_20=[]\n",
    "NW_service_idx_20=[]\n",
    "NW_retail_idx_20=[]\n",
    "\n",
    "\n",
    "for i in range(len(NW_code_array20)):\n",
    "    \n",
    "    if NW_code_array20[i][2]=='1':\n",
    "        NW_food_idx_20.append(NW_idx20[i])\n",
    "        \n",
    "    elif NW_code_array20[i][2]=='2':\n",
    "        NW_service_idx_20.append(NW_idx20[i])\n",
    "        \n",
    "    else:\n",
    "        NW_retail_idx_20.append(NW_idx20[i])\n",
    "\n",
    "NW_food_20=Northwest20.loc[NW_food_idx_20]\n",
    "NW_service_20=Northwest20.loc[NW_service_idx_20]\n",
    "NW_retail_20=Northwest20.loc[NW_retail_idx_20]\n",
    "\n",
    "\n",
    "#서북권 2019년\n",
    "NW_code_array19=np.array(Northwest19['서비스_업종_코드'].values.tolist())\n",
    "NW_idx19=Northwest19.index\n",
    "\n",
    "NW_food_idx_19=[]\n",
    "NW_service_idx_19=[]\n",
    "NW_retail_idx_19=[]\n",
    "\n",
    "\n",
    "for i in range(len(NW_code_array19)):\n",
    "    \n",
    "    if NW_code_array19[i][2]=='1':\n",
    "        NW_food_idx_19.append(NW_idx19[i])\n",
    "        \n",
    "    elif NW_code_array19[i][2]=='2':\n",
    "        NW_service_idx_19.append(NW_idx19[i])\n",
    "        \n",
    "    else:\n",
    "        NW_retail_idx_19.append(NW_idx19[i])\n",
    "\n",
    "NW_food_19=Northwest19.loc[NW_food_idx_19]\n",
    "NW_service_19=Northwest19.loc[NW_service_idx_19]\n",
    "NW_retail_19=Northwest19.loc[NW_retail_idx_19]\n"
   ]
  },
  {
   "cell_type": "code",
   "execution_count": 226,
   "metadata": {},
   "outputs": [],
   "source": [
    "#동남권 2020년\n",
    "SE_code_array20=np.array(Southeast20['서비스_업종_코드'].values.tolist())\n",
    "SE_idx20=Southeast20.index\n",
    "\n",
    "SE_food_idx_20=[]\n",
    "SE_service_idx_20=[]\n",
    "SE_retail_idx_20=[]\n",
    "\n",
    "\n",
    "for i in range(len(SE_code_array20)):\n",
    "    \n",
    "    if SE_code_array20[i][2]=='1':\n",
    "        SE_food_idx_20.append(SE_idx20[i])\n",
    "        \n",
    "    elif SE_code_array20[i][2]=='2':\n",
    "        SE_service_idx_20.append(SE_idx20[i])\n",
    "        \n",
    "    else:\n",
    "        SE_retail_idx_20.append(SE_idx20[i])\n",
    "\n",
    "SE_food_20=Southeast20.loc[SE_food_idx_20]\n",
    "SE_service_20=Southeast20.loc[SE_service_idx_20]\n",
    "SE_retail_20=Southeast20.loc[SE_retail_idx_20]\n",
    "\n",
    "\n",
    "#동남권 2019년\n",
    "SE_code_array19=np.array(Southeast19['서비스_업종_코드'].values.tolist())\n",
    "SE_idx19=Southeast19.index\n",
    "\n",
    "SE_food_idx_19=[]\n",
    "SE_service_idx_19=[]\n",
    "SE_retail_idx_19=[]\n",
    "\n",
    "\n",
    "for i in range(len(SE_code_array19)):\n",
    "    \n",
    "    if SE_code_array19[i][2]=='1':\n",
    "        SE_food_idx_19.append(SE_idx19[i])\n",
    "        \n",
    "    elif SE_code_array19[i][2]=='2':\n",
    "        SE_service_idx_19.append(SE_idx19[i])\n",
    "        \n",
    "    else:\n",
    "        SE_retail_idx_19.append(SE_idx19[i])\n",
    "\n",
    "SE_food_19=Southeast19.loc[SE_food_idx_19]\n",
    "SE_service_19=Southeast19.loc[SE_service_idx_19]\n",
    "SE_retail_19=Southeast19.loc[SE_retail_idx_19]"
   ]
  },
  {
   "cell_type": "code",
   "execution_count": 227,
   "metadata": {},
   "outputs": [],
   "source": [
    "#서남권 2020년\n",
    "\n",
    "SW_code_array20=np.array(Southwest20['서비스_업종_코드'].values.tolist())\n",
    "SW_idx20=Southwest20.index\n",
    "\n",
    "SW_food_idx_20=[]\n",
    "SW_service_idx_20=[]\n",
    "SW_retail_idx_20=[]\n",
    "\n",
    "\n",
    "for i in range(len(SW_code_array20)):\n",
    "    \n",
    "    if SW_code_array20[i][2]=='1':\n",
    "        SW_food_idx_20.append(SW_idx20[i])\n",
    "        \n",
    "    elif SW_code_array20[i][2]=='2':\n",
    "        SW_service_idx_20.append(SW_idx20[i])\n",
    "        \n",
    "    else:\n",
    "        SW_retail_idx_20.append(SW_idx20[i])\n",
    "\n",
    "SW_food_20=Southwest20.loc[SW_food_idx_20]\n",
    "SW_service_20=Southwest20.loc[SW_service_idx_20]\n",
    "SW_retail_20=Southwest20.loc[SW_retail_idx_20]\n",
    "\n",
    "\n",
    "#서남권 2019년\n",
    "SW_code_array19=np.array(Southwest19['서비스_업종_코드'].values.tolist())\n",
    "SW_idx19=Southwest19.index\n",
    "\n",
    "SW_food_idx_19=[]\n",
    "SW_service_idx_19=[]\n",
    "SW_retail_idx_19=[]\n",
    "\n",
    "\n",
    "for i in range(len(SW_code_array19)):\n",
    "    \n",
    "    if SW_code_array19[i][2]=='1':\n",
    "        SW_food_idx_19.append(SW_idx19[i])\n",
    "        \n",
    "    elif SW_code_array19[i][2]=='2':\n",
    "        SW_service_idx_19.append(SW_idx19[i])\n",
    "        \n",
    "    else:\n",
    "        SW_retail_idx_19.append(SW_idx19[i])\n",
    "\n",
    "SW_food_19=Southwest19.loc[SW_food_idx_19]\n",
    "SW_service_19=Southwest19.loc[SW_service_idx_19]\n",
    "SW_retail_19=Southwest19.loc[SW_retail_idx_19]"
   ]
  },
  {
   "cell_type": "code",
   "execution_count": 228,
   "metadata": {},
   "outputs": [],
   "source": [
    "#---------------------------------------------------\n"
   ]
  },
  {
   "cell_type": "code",
   "execution_count": 229,
   "metadata": {},
   "outputs": [],
   "source": [
    "#각 생활권의 업종별 매출 금액의 분기별 합계를 구하기\n",
    "\n",
    "#도심권 2020년\n",
    "D_food_group20=D_food_20.groupby('기준_분기_코드')\n",
    "D_food_sum20=D_food_group20['분기당_매출_금액'].sum()\n",
    "\n",
    "D_service_group20=D_service_20.groupby('기준_분기_코드')\n",
    "D_service_sum20=D_service_group20['분기당_매출_금액'].sum()\n",
    "\n",
    "D_retail_group20=D_retail_20.groupby('기준_분기_코드')\n",
    "D_retail_sum20=D_retail_group20['분기당_매출_금액'].sum()\n",
    "\n",
    "#도심권 2019년\n",
    "D_food_group19=D_food_19.groupby('기준_분기_코드')\n",
    "D_food_sum19=D_food_group19['분기당_매출_금액'].sum()\n",
    "\n",
    "D_service_group19=D_service_19.groupby('기준_분기_코드')\n",
    "D_service_sum19=D_service_group19['분기당_매출_금액'].sum()\n",
    "\n",
    "D_retail_group19=D_retail_19.groupby('기준_분기_코드')\n",
    "D_retail_sum19=D_retail_group19['분기당_매출_금액'].sum()\n",
    "\n",
    "#-----------------------------------------------------------------------\n",
    "#동북권 2020년\n",
    "NE_food_group20=NE_food_20.groupby('기준_분기_코드')\n",
    "NE_food_sum20=NE_food_group20['분기당_매출_금액'].sum()\n",
    "\n",
    "NE_service_group20=NE_service_20.groupby('기준_분기_코드')\n",
    "NE_service_sum20=NE_service_group20['분기당_매출_금액'].sum()\n",
    "\n",
    "NE_retail_group20=NE_retail_20.groupby('기준_분기_코드')\n",
    "NE_retail_sum20=NE_retail_group20['분기당_매출_금액'].sum()\n",
    "\n",
    "\n",
    "#동북권 2019년\n",
    "NE_food_group19=NE_food_19.groupby('기준_분기_코드')\n",
    "NE_food_sum19=NE_food_group19['분기당_매출_금액'].sum()\n",
    "\n",
    "NE_service_group19=NE_service_19.groupby('기준_분기_코드')\n",
    "NE_service_sum19=NE_service_group19['분기당_매출_금액'].sum()\n",
    "\n",
    "NE_retail_group19=NE_retail_19.groupby('기준_분기_코드')\n",
    "NE_retail_sum19=NE_retail_group19['분기당_매출_금액'].sum()\n",
    "\n",
    "\n",
    "#------------------------------------------------------------------\n",
    "#서북권 2020년\n",
    "NW_food_group20=NW_food_20.groupby('기준_분기_코드')\n",
    "NW_food_sum20=NW_food_group20['분기당_매출_금액'].sum()\n",
    "\n",
    "NW_service_group20=NW_service_20.groupby('기준_분기_코드')\n",
    "NW_service_sum20=NW_service_group20['분기당_매출_금액'].sum()\n",
    "\n",
    "NW_retail_group20=NW_retail_20.groupby('기준_분기_코드')\n",
    "NW_retail_sum20=NW_retail_group20['분기당_매출_금액'].sum()\n",
    "\n",
    "\n",
    "#서북권 2019년\n",
    "NW_food_group19=NW_food_19.groupby('기준_분기_코드')\n",
    "NW_food_sum19=NW_food_group19['분기당_매출_금액'].sum()\n",
    "\n",
    "NW_service_group19=NW_service_19.groupby('기준_분기_코드')\n",
    "NW_service_sum19=NW_service_group19['분기당_매출_금액'].sum()\n",
    "\n",
    "NW_retail_group19=NW_retail_19.groupby('기준_분기_코드')\n",
    "NW_retail_sum19=NW_retail_group19['분기당_매출_금액'].sum()\n",
    "\n",
    "#--------------------------------------------------------------------------------\n",
    "#동남권 2020년\n",
    "SE_food_group20=SE_food_20.groupby('기준_분기_코드')\n",
    "SE_food_sum20=SE_food_group20['분기당_매출_금액'].sum()\n",
    "\n",
    "SE_service_group20=SE_service_20.groupby('기준_분기_코드')\n",
    "SE_service_sum20=SE_service_group20['분기당_매출_금액'].sum()\n",
    "\n",
    "SE_retail_group20=SE_retail_20.groupby('기준_분기_코드')\n",
    "SE_retail_sum20=SE_retail_group20['분기당_매출_금액'].sum()\n",
    "\n",
    "\n",
    "#동남권 2019년\n",
    "SE_food_group19=SE_food_19.groupby('기준_분기_코드')\n",
    "SE_food_sum19=SE_food_group19['분기당_매출_금액'].sum()\n",
    "\n",
    "SE_service_group19=SE_service_19.groupby('기준_분기_코드')\n",
    "SE_service_sum19=SE_service_group19['분기당_매출_금액'].sum()\n",
    "\n",
    "SE_retail_group19=SE_retail_19.groupby('기준_분기_코드')\n",
    "SE_retail_sum19=SE_retail_group19['분기당_매출_금액'].sum()\n",
    "\n",
    "#----------------------------------------------------------------------------------\n",
    "#서남권 2020년\n",
    "SW_food_group20=SW_food_20.groupby('기준_분기_코드')\n",
    "SW_food_sum20=SW_food_group20['분기당_매출_금액'].sum()\n",
    "\n",
    "SW_service_group20=SW_service_20.groupby('기준_분기_코드')\n",
    "SW_service_sum20=SW_service_group20['분기당_매출_금액'].sum()\n",
    "\n",
    "SW_retail_group20=SW_retail_20.groupby('기준_분기_코드')\n",
    "SW_retail_sum20=SW_retail_group20['분기당_매출_금액'].sum()\n",
    "\n",
    "\n",
    "#서남권 2019년\n",
    "SW_food_group19=SW_food_19.groupby('기준_분기_코드')\n",
    "SW_food_sum19=SW_food_group19['분기당_매출_금액'].sum()\n",
    "\n",
    "SW_service_group19=SW_service_19.groupby('기준_분기_코드')\n",
    "SW_service_sum19=SW_service_group19['분기당_매출_금액'].sum()\n",
    "\n",
    "SW_retail_group19=SW_retail_19.groupby('기준_분기_코드')\n",
    "SW_retail_sum19=SW_retail_group19['분기당_매출_금액'].sum()"
   ]
  },
  {
   "cell_type": "code",
   "execution_count": 230,
   "metadata": {},
   "outputs": [],
   "source": [
    "#각 생활권의 업종별, 분기별 매출 금액 그래프\n",
    "\n",
    "label=['1','2','3','4']\n",
    "x=np.arange(len(label))"
   ]
  },
  {
   "cell_type": "code",
   "execution_count": 231,
   "metadata": {},
   "outputs": [],
   "source": [
    "#도심권---------------------------------------------------------------------------------------------------------------------"
   ]
  },
  {
   "cell_type": "code",
   "execution_count": 232,
   "metadata": {},
   "outputs": [
    {
     "data": {
      "text/plain": [
       "<matplotlib.legend.Legend at 0x22e03c78cd0>"
      ]
     },
     "execution_count": 232,
     "metadata": {},
     "output_type": "execute_result"
    },
    {
     "data": {
      "image/png": "[encoded data removed]",
      "text/plain": [
       "<Figure size 432x288 with 1 Axes>"
      ]
     },
     "metadata": {
      "needs_background": "light"
     },
     "output_type": "display_data"
    }
   ],
   "source": [
    "#도심권-외식업\n",
    "d_food19=plt.bar(x-0.2, D_food_sum19,label='2019년',width=0.2, color='blue',alpha=0.5)\n",
    "d_food20=plt.bar(x-0.0, D_food_sum20,label='2020년',width=0.2, color='red',alpha=0.5)\n",
    "\n",
    "plt.title('도심권 외식업 매출', fontsize=10)\n",
    "\n",
    "plt.xlabel('분기', fontsize=9)\n",
    "\n",
    "plt.ylabel('매출', fontsize=9)\n",
    "\n",
    "plt.xticks(x, label, fontsize=7)\n",
    "\n",
    "plt.legend((d_food19[0], d_food20[0]), ('2019년', '2020년'), fontsize=7)"
   ]
  },
  {
   "cell_type": "code",
   "execution_count": 233,
   "metadata": {},
   "outputs": [
    {
     "data": {
      "text/plain": [
       "<matplotlib.legend.Legend at 0x22e03ce6f10>"
      ]
     },
     "execution_count": 233,
     "metadata": {},
     "output_type": "execute_result"
    },
    {
     "data": {
      "image/png": "[encoded data removed]",
      "text/plain": [
       "<Figure size 432x288 with 1 Axes>"
      ]
     },
     "metadata": {
      "needs_background": "light"
     },
     "output_type": "display_data"
    }
   ],
   "source": [
    "#도심권-서비스업\n",
    "\n",
    "d_service19=plt.bar(x-0.2, D_service_sum19,label='2019년',width=0.2, color='blue',alpha=0.5)\n",
    "d_service20=plt.bar(x-0.0, D_service_sum20,label='2020년',width=0.2, color='red',alpha=0.5)\n",
    "\n",
    "plt.title('도심권 서비스업 매출', fontsize=10)\n",
    "\n",
    "plt.xlabel('분기', fontsize=9)\n",
    "\n",
    "plt.ylabel('매출', fontsize=9)\n",
    "\n",
    "plt.xticks(x, label, fontsize=7)\n",
    "\n",
    "plt.legend((d_service19[0], d_service20[0]), ('2019년', '2020년'), fontsize=7)"
   ]
  },
  {
   "cell_type": "code",
   "execution_count": 234,
   "metadata": {},
   "outputs": [
    {
     "data": {
      "text/plain": [
       "<matplotlib.legend.Legend at 0x22e04623ac0>"
      ]
     },
     "execution_count": 234,
     "metadata": {},
     "output_type": "execute_result"
    },
    {
     "data": {
      "image/png": "[encoded data removed]",
      "text/plain": [
       "<Figure size 432x288 with 1 Axes>"
      ]
     },
     "metadata": {
      "needs_background": "light"
     },
     "output_type": "display_data"
    }
   ],
   "source": [
    "#도심권 소매업\n",
    "\n",
    "d_retail19=plt.bar(x-0.2, D_retail_sum19,label='2019년',width=0.2, color='blue',alpha=0.5)\n",
    "d_retail20=plt.bar(x-0.0, D_retail_sum20,label='2020년',width=0.2, color='red',alpha=0.5)\n",
    "\n",
    "plt.title('도심권 소매업 매출', fontsize=10)\n",
    "\n",
    "plt.xlabel('분기', fontsize=9)\n",
    "\n",
    "plt.ylabel('매출', fontsize=9)\n",
    "\n",
    "plt.xticks(x, label, fontsize=7)\n",
    "\n",
    "plt.legend((d_retail19[0], d_retail20[0]), ('2019년', '2020년'), fontsize=7)"
   ]
  },
  {
   "cell_type": "code",
   "execution_count": 235,
   "metadata": {},
   "outputs": [],
   "source": [
    "#동북권---------------------------------------------------------------------------------------------------------"
   ]
  },
  {
   "cell_type": "code",
   "execution_count": 236,
   "metadata": {},
   "outputs": [
    {
     "data": {
      "text/plain": [
       "<matplotlib.legend.Legend at 0x22e04b71e50>"
      ]
     },
     "execution_count": 236,
     "metadata": {},
     "output_type": "execute_result"
    },
    {
     "data": {
      "image/png": "[encoded data removed]",
      "text/plain": [
       "<Figure size 432x288 with 1 Axes>"
      ]
     },
     "metadata": {
      "needs_background": "light"
     },
     "output_type": "display_data"
    }
   ],
   "source": [
    "#동북권-외식업\n",
    "\n",
    "ne_food19=plt.bar(x-0.2, NE_food_sum19,label='2019년',width=0.2, color='blue',alpha=0.5)\n",
    "ne_food20=plt.bar(x-0.0, NE_food_sum20,label='2020년',width=0.2, color='red',alpha=0.5)\n",
    "\n",
    "plt.title('동북권 외식업 매출', fontsize=10)\n",
    "\n",
    "plt.xlabel('분기', fontsize=9)\n",
    "\n",
    "plt.ylabel('매출', fontsize=9)\n",
    "\n",
    "plt.xticks(x, label, fontsize=7)\n",
    "\n",
    "plt.legend((ne_food19[0], ne_food20[0]), ('2019년', '2020년'), fontsize=7)\n"
   ]
  },
  {
   "cell_type": "code",
   "execution_count": 237,
   "metadata": {},
   "outputs": [
    {
     "data": {
      "text/plain": [
       "<matplotlib.legend.Legend at 0x22e0725b7c0>"
      ]
     },
     "execution_count": 237,
     "metadata": {},
     "output_type": "execute_result"
    },
    {
     "data": {
      "image/png": "[encoded data removed]",
      "text/plain": [
       "<Figure size 432x288 with 1 Axes>"
      ]
     },
     "metadata": {
      "needs_background": "light"
     },
     "output_type": "display_data"
    }
   ],
   "source": [
    "#동북-서비스업\n",
    "ne_service19=plt.bar(x-0.2, NE_service_sum19,label='2019년',width=0.2, color='blue',alpha=0.5)\n",
    "ne_service20=plt.bar(x-0.0, NE_service_sum20,label='2020년',width=0.2, color='red',alpha=0.5)\n",
    "\n",
    "plt.title('동북권 서비스업 매출', fontsize=10)\n",
    "\n",
    "plt.xlabel('분기', fontsize=9)\n",
    "\n",
    "plt.ylabel('매출', fontsize=9)\n",
    "\n",
    "plt.xticks(x, label, fontsize=7)\n",
    "\n",
    "plt.legend((ne_service19[0], ne_service20[0]), ('2019년', '2020년'), fontsize=7)"
   ]
  },
  {
   "cell_type": "code",
   "execution_count": 238,
   "metadata": {},
   "outputs": [
    {
     "data": {
      "text/plain": [
       "<matplotlib.legend.Legend at 0x22e07450dc0>"
      ]
     },
     "execution_count": 238,
     "metadata": {},
     "output_type": "execute_result"
    },
    {
     "data": {
      "image/png": "[encoded data removed]",
      "text/plain": [
       "<Figure size 432x288 with 1 Axes>"
      ]
     },
     "metadata": {
      "needs_background": "light"
     },
     "output_type": "display_data"
    }
   ],
   "source": [
    "#동북-소매업\n",
    "ne_retail19=plt.bar(x-0.2, NE_retail_sum19,label='2019년',width=0.2, color='blue',alpha=0.5)\n",
    "ne_retail20=plt.bar(x-0.0, NE_retail_sum20,label='2020년',width=0.2, color='red',alpha=0.5)\n",
    "\n",
    "plt.title('동북권 소매업 매출', fontsize=10)\n",
    "\n",
    "plt.xlabel('분기', fontsize=9)\n",
    "\n",
    "plt.ylabel('매출', fontsize=9)\n",
    "\n",
    "plt.xticks(x, label, fontsize=7)\n",
    "\n",
    "plt.legend((ne_retail19[0], ne_retail20[0]), ('2019년', '2020년'), fontsize=7)"
   ]
  },
  {
   "cell_type": "code",
   "execution_count": 239,
   "metadata": {},
   "outputs": [],
   "source": [
    "#서북권----------------------------------------------------------------------------------------------------------"
   ]
  },
  {
   "cell_type": "code",
   "execution_count": 240,
   "metadata": {},
   "outputs": [
    {
     "data": {
      "text/plain": [
       "<matplotlib.legend.Legend at 0x22e08fb4bb0>"
      ]
     },
     "execution_count": 240,
     "metadata": {},
     "output_type": "execute_result"
    },
    {
     "data": {
      "image/png": "[encoded data removed]",
      "text/plain": [
       "<Figure size 432x288 with 1 Axes>"
      ]
     },
     "metadata": {
      "needs_background": "light"
     },
     "output_type": "display_data"
    }
   ],
   "source": [
    "#서북 - 외식업\n",
    "nw_food19=plt.bar(x-0.2, NW_food_sum19,label='2019년',width=0.2, color='blue',alpha=0.5)\n",
    "nw_food20=plt.bar(x-0.0, NW_food_sum20,label='2020년',width=0.2, color='red',alpha=0.5)\n",
    "\n",
    "plt.title('서북권 외식업 매출', fontsize=10)\n",
    "\n",
    "plt.xlabel('분기', fontsize=9)\n",
    "\n",
    "plt.ylabel('매출', fontsize=9)\n",
    "\n",
    "plt.xticks(x, label, fontsize=7)\n",
    "\n",
    "plt.legend((nw_food19[0], nw_food20[0]), ('2019년', '2020년'), fontsize=7)\n"
   ]
  },
  {
   "cell_type": "code",
   "execution_count": 241,
   "metadata": {},
   "outputs": [
    {
     "data": {
      "text/plain": [
       "<matplotlib.legend.Legend at 0x22e0902efa0>"
      ]
     },
     "execution_count": 241,
     "metadata": {},
     "output_type": "execute_result"
    },
    {
     "data": {
      "image/png": "[encoded data removed]",
      "text/plain": [
       "<Figure size 432x288 with 1 Axes>"
      ]
     },
     "metadata": {
      "needs_background": "light"
     },
     "output_type": "display_data"
    }
   ],
   "source": [
    "#서북-서비스업\n",
    "nw_service19=plt.bar(x-0.2, NW_service_sum19,label='2019년',width=0.2, color='blue',alpha=0.5)\n",
    "nw_service20=plt.bar(x-0.0, NW_service_sum20,label='2020년',width=0.2, color='red',alpha=0.5)\n",
    "\n",
    "plt.title('서북권 서비스업 매출', fontsize=10)\n",
    "\n",
    "plt.xlabel('분기', fontsize=9)\n",
    "\n",
    "plt.ylabel('매출', fontsize=9)\n",
    "\n",
    "plt.xticks(x, label, fontsize=7)\n",
    "\n",
    "plt.legend((nw_service19[0], nw_service20[0]), ('2019년', '2020년'), fontsize=7)"
   ]
  },
  {
   "cell_type": "code",
   "execution_count": 242,
   "metadata": {},
   "outputs": [
    {
     "data": {
      "text/plain": [
       "<matplotlib.legend.Legend at 0x22e09b047c0>"
      ]
     },
     "execution_count": 242,
     "metadata": {},
     "output_type": "execute_result"
    },
    {
     "data": {
      "image/png": "[encoded data removed]",
      "text/plain": [
       "<Figure size 432x288 with 1 Axes>"
      ]
     },
     "metadata": {
      "needs_background": "light"
     },
     "output_type": "display_data"
    }
   ],
   "source": [
    "#서북-소매업\n",
    "nw_retail19=plt.bar(x-0.2, NW_retail_sum19,label='2019년',width=0.2, color='blue',alpha=0.5)\n",
    "nw_retail20=plt.bar(x-0.0, NW_retail_sum20,label='2020년',width=0.2, color='red',alpha=0.5)\n",
    "\n",
    "plt.title('서북권 소매업 매출', fontsize=10)\n",
    "\n",
    "plt.xlabel('분기', fontsize=9)\n",
    "\n",
    "plt.ylabel('매출', fontsize=9)\n",
    "\n",
    "plt.xticks(x, label, fontsize=7)\n",
    "\n",
    "plt.legend((nw_retail19[0], nw_retail20[0]), ('2019년', '2020년'), fontsize=7)"
   ]
  },
  {
   "cell_type": "code",
   "execution_count": 243,
   "metadata": {},
   "outputs": [],
   "source": [
    "#동남권--------------------------------------------------------------------------------------------------------------------------"
   ]
  },
  {
   "cell_type": "code",
   "execution_count": 244,
   "metadata": {},
   "outputs": [
    {
     "data": {
      "text/plain": [
       "<matplotlib.legend.Legend at 0x22e09b57eb0>"
      ]
     },
     "execution_count": 244,
     "metadata": {},
     "output_type": "execute_result"
    },
    {
     "data": {
      "image/png": "[encoded data removed]",
      "text/plain": [
       "<Figure size 432x288 with 1 Axes>"
      ]
     },
     "metadata": {
      "needs_background": "light"
     },
     "output_type": "display_data"
    }
   ],
   "source": [
    "#동남 - 외식업\n",
    "se_food19=plt.bar(x-0.2, SE_food_sum19,label='2019년',width=0.2, color='blue',alpha=0.5)\n",
    "se_food20=plt.bar(x-0.0, SE_food_sum20,label='2020년',width=0.2, color='red',alpha=0.5)\n",
    "\n",
    "plt.title('동남권 외식업 매출', fontsize=10)\n",
    "\n",
    "plt.xlabel('분기', fontsize=9)\n",
    "\n",
    "plt.ylabel('매출', fontsize=9)\n",
    "\n",
    "plt.xticks(x, label, fontsize=7)\n",
    "\n",
    "plt.legend((se_food19[0], se_food20[0]), ('2019년', '2020년'), fontsize=7)"
   ]
  },
  {
   "cell_type": "code",
   "execution_count": 245,
   "metadata": {},
   "outputs": [
    {
     "data": {
      "text/plain": [
       "<matplotlib.legend.Legend at 0x22e08fac850>"
      ]
     },
     "execution_count": 245,
     "metadata": {},
     "output_type": "execute_result"
    },
    {
     "data": {
      "image/png": "[encoded data removed]",
      "text/plain": [
       "<Figure size 432x288 with 1 Axes>"
      ]
     },
     "metadata": {
      "needs_background": "light"
     },
     "output_type": "display_data"
    }
   ],
   "source": [
    "#동남-서비스업\n",
    "se_service19=plt.bar(x-0.2, SE_service_sum19,label='2019년',width=0.2, color='blue',alpha=0.5)\n",
    "se_service20=plt.bar(x-0.0, SE_service_sum20,label='2020년',width=0.2, color='red',alpha=0.5)\n",
    "\n",
    "plt.title('동남권 서비스업 매출', fontsize=10)\n",
    "\n",
    "plt.xlabel('분기', fontsize=9)\n",
    "\n",
    "plt.ylabel('매출', fontsize=9)\n",
    "\n",
    "plt.xticks(x, label, fontsize=7)\n",
    "\n",
    "plt.legend((se_service19[0], se_service20[0]), ('2019년', '2020년'), fontsize=7)"
   ]
  },
  {
   "cell_type": "code",
   "execution_count": 246,
   "metadata": {},
   "outputs": [
    {
     "data": {
      "text/plain": [
       "<matplotlib.legend.Legend at 0x22e0a7a6b20>"
      ]
     },
     "execution_count": 246,
     "metadata": {},
     "output_type": "execute_result"
    },
    {
     "data": {
      "image/png": "[encoded data removed]",
      "text/plain": [
       "<Figure size 432x288 with 1 Axes>"
      ]
     },
     "metadata": {
      "needs_background": "light"
     },
     "output_type": "display_data"
    }
   ],
   "source": [
    "#동남-소매업\n",
    "se_retail19=plt.bar(x-0.2, SE_retail_sum19,label='2019년',width=0.2, color='blue',alpha=0.5)\n",
    "se_retail20=plt.bar(x-0.0, SE_retail_sum20,label='2020년',width=0.2, color='red',alpha=0.5)\n",
    "\n",
    "plt.title('동남권 소매업 매출', fontsize=10)\n",
    "\n",
    "plt.xlabel('분기', fontsize=9)\n",
    "\n",
    "plt.ylabel('매출', fontsize=9)\n",
    "\n",
    "plt.xticks(x, label, fontsize=7)\n",
    "\n",
    "plt.legend((se_retail19[0], se_retail20[0]), ('2019년', '2020년'), fontsize=7)"
   ]
  },
  {
   "cell_type": "code",
   "execution_count": 247,
   "metadata": {},
   "outputs": [],
   "source": [
    "#서남권-------------------------------------------------------------------------------------------------------------"
   ]
  },
  {
   "cell_type": "code",
   "execution_count": 248,
   "metadata": {},
   "outputs": [
    {
     "data": {
      "text/plain": [
       "<matplotlib.legend.Legend at 0x22e0a8176d0>"
      ]
     },
     "execution_count": 248,
     "metadata": {},
     "output_type": "execute_result"
    },
    {
     "data": {
      "image/png": "[encoded data removed]",
      "text/plain": [
       "<Figure size 432x288 with 1 Axes>"
      ]
     },
     "metadata": {
      "needs_background": "light"
     },
     "output_type": "display_data"
    }
   ],
   "source": [
    "#서남 - 외식업\n",
    "sw_food19=plt.bar(x-0.2, SW_food_sum19,label='2019년',width=0.2, color='blue',alpha=0.5)\n",
    "sw_food20=plt.bar(x-0.0, SW_food_sum20,label='2020년',width=0.2, color='red',alpha=0.5)\n",
    "\n",
    "plt.title('서남권 외식업 매출', fontsize=10)\n",
    "\n",
    "plt.xlabel('분기', fontsize=9)\n",
    "\n",
    "plt.ylabel('매출', fontsize=9)\n",
    "\n",
    "plt.xticks(x, label, fontsize=7)\n",
    "\n",
    "plt.legend((sw_food19[0], sw_food20[0]), ('2019년', '2020년'), fontsize=7)"
   ]
  },
  {
   "cell_type": "code",
   "execution_count": 249,
   "metadata": {},
   "outputs": [
    {
     "data": {
      "text/plain": [
       "<matplotlib.legend.Legend at 0x22e0a9c8f40>"
      ]
     },
     "execution_count": 249,
     "metadata": {},
     "output_type": "execute_result"
    },
    {
     "data": {
      "image/png": "[encoded data removed]",
      "text/plain": [
       "<Figure size 432x288 with 1 Axes>"
      ]
     },
     "metadata": {
      "needs_background": "light"
     },
     "output_type": "display_data"
    }
   ],
   "source": [
    "#서남-서비스업\n",
    "sw_service19=plt.bar(x-0.2, SW_service_sum19,label='2019년',width=0.2, color='blue',alpha=0.5)\n",
    "sw_service20=plt.bar(x-0.0, SW_service_sum20,label='2020년',width=0.2, color='red',alpha=0.5)\n",
    "\n",
    "plt.title('서남권 서비스업 매출', fontsize=10)\n",
    "\n",
    "plt.xlabel('분기', fontsize=9)\n",
    "\n",
    "plt.ylabel('매출', fontsize=9)\n",
    "\n",
    "plt.xticks(x, label, fontsize=7)\n",
    "\n",
    "plt.legend((sw_service19[0], sw_service20[0]), ('2019년', '2020년'), fontsize=7)\n"
   ]
  },
  {
   "cell_type": "code",
   "execution_count": 250,
   "metadata": {},
   "outputs": [
    {
     "data": {
      "text/plain": [
       "<matplotlib.legend.Legend at 0x22e0aa2dd00>"
      ]
     },
     "execution_count": 250,
     "metadata": {},
     "output_type": "execute_result"
    },
    {
     "data": {
      "image/png": "[encoded data removed]",
      "text/plain": [
       "<Figure size 432x288 with 1 Axes>"
      ]
     },
     "metadata": {
      "needs_background": "light"
     },
     "output_type": "display_data"
    }
   ],
   "source": [
    "#서남-소매업\n",
    "sw_retail19=plt.bar(x-0.2, SW_retail_sum19,label='2019년',width=0.2, color='blue',alpha=0.5)\n",
    "sw_retail20=plt.bar(x-0.0, SW_retail_sum20,label='2020년',width=0.2, color='red',alpha=0.5)\n",
    "\n",
    "plt.title('서남권 소매업 매출', fontsize=10)\n",
    "\n",
    "plt.xlabel('분기', fontsize=9)\n",
    "\n",
    "plt.ylabel('매출', fontsize=9)\n",
    "\n",
    "plt.xticks(x, label, fontsize=7)\n",
    "\n",
    "plt.legend((sw_retail19[0], sw_retail20[0]), ('2019년', '2020년'), fontsize=7)"
   ]
  },
  {
   "cell_type": "code",
   "execution_count": 251,
   "metadata": {},
   "outputs": [],
   "source": [
    "#============================================================================================================================="
   ]
  },
  {
   "cell_type": "code",
   "execution_count": 281,
   "metadata": {},
   "outputs": [],
   "source": [
    "#분기별 점포수와 코로나 확진자수가 매출에 유의미한 영향을 미치는지 보기 위해 회귀분석\n",
    "\n",
    "from sklearn.linear_model import LinearRegression\n",
    "from scipy import stats\n"
   ]
  },
  {
   "cell_type": "code",
   "execution_count": 282,
   "metadata": {},
   "outputs": [],
   "source": [
    "#생활권별 업종별 점포수\n",
    "\n",
    "#도심권 2020년\n",
    "\n",
    "D_food_store20=D_food_group20['점포수'].sum()\n",
    "D_service_store20=D_service_group20['점포수'].sum()\n",
    "D_retail_store20=D_retail_group20['점포수'].sum()\n",
    "\n",
    "#동북권 2020년\n",
    "\n",
    "NE_food_store20=NE_food_group20['점포수'].sum()\n",
    "NE_service_store20=NE_service_group20['점포수'].sum()\n",
    "NE_retail_store20=NE_retail_group20['점포수'].sum()\n",
    "\n",
    "#서북권 2020년\n",
    "\n",
    "NW_food_store20=NW_food_group20['점포수'].sum()\n",
    "NW_service_store20=NW_service_group20['점포수'].sum()\n",
    "NW_retail_store20=NW_retail_group20['점포수'].sum()\n",
    "\n",
    "#동남권 2020년\n",
    "\n",
    "SE_food_store20=SE_food_group20['점포수'].sum()\n",
    "SE_service_store20=SE_service_group20['점포수'].sum()\n",
    "SE_retail_store20=SE_retail_group20['점포수'].sum()\n",
    "\n",
    "#서남권 2020년\n",
    "\n",
    "SW_food_store20=SW_food_group20['점포수'].sum()\n",
    "SW_service_store20=SW_service_group20['점포수'].sum()\n",
    "SW_retail_store20=SW_retail_group20['점포수'].sum()\n",
    "\n"
   ]
  },
  {
   "cell_type": "code",
   "execution_count": 283,
   "metadata": {},
   "outputs": [],
   "source": [
    "#확진자 수 데이터와 업종별 점포수를 dataframe으로 만들기\n",
    "c_df=pd.DataFrame(C_series, columns=['Covid19'])\n",
    "\n",
    "#도심권---------------------------------------------------------------------------------------\n",
    "\n",
    "#도심권-외식업\n",
    "D_f_df=pd.concat([c_df, pd.DataFrame(D_food_store20)], axis=1)\n",
    "\n",
    "#도심권-서비스업\n",
    "D_s_df=pd.concat([c_df, pd.DataFrame(D_service_store20)], axis=1)\n",
    "\n",
    "#도심권-소매업\n",
    "D_r_df=pd.concat([c_df, pd.DataFrame(D_retail_store20)], axis=1)\n",
    "\n",
    "\n",
    "\n",
    "#동북권---------------------------------------------------------------------------------------\n",
    "\n",
    "#동북권-외식업\n",
    "NE_f_df=pd.concat([c_df, pd.DataFrame(NE_food_store20)], axis=1)\n",
    "\n",
    "#동북권-서비스업\n",
    "NE_s_df=pd.concat([c_df, pd.DataFrame(NE_service_store20)], axis=1)\n",
    "\n",
    "#동북권-소매업\n",
    "NE_r_df=pd.concat([c_df, pd.DataFrame(NE_retail_store20)], axis=1)\n",
    "\n",
    "#서북권---------------------------------------------------------------------------------------\n",
    "\n",
    "#서북권-외식업\n",
    "NW_f_df=pd.concat([c_df, pd.DataFrame(NW_food_store20)], axis=1)\n",
    "\n",
    "#서북권-서비스업\n",
    "NW_s_df=pd.concat([c_df, pd.DataFrame(NW_service_store20)], axis=1)\n",
    "\n",
    "#서북권-소매업\n",
    "NW_r_df=pd.concat([c_df, pd.DataFrame(NW_retail_store20)], axis=1)\n",
    "\n",
    "#동남권---------------------------------------------------------------------------------------\n",
    "\n",
    "#동남권-외식업\n",
    "SE_f_df=pd.concat([c_df, pd.DataFrame(SE_food_store20)], axis=1)\n",
    "\n",
    "#동남권-서비스업\n",
    "SE_s_df=pd.concat([c_df, pd.DataFrame(SE_service_store20)], axis=1)\n",
    "\n",
    "#동남권-소매업\n",
    "SE_r_df=pd.concat([c_df, pd.DataFrame(SE_retail_store20)], axis=1)\n",
    "\n",
    "#서남권---------------------------------------------------------------------------------------\n",
    "\n",
    "#서남권-외식업\n",
    "SW_f_df=pd.concat([c_df, pd.DataFrame(SW_food_store20)], axis=1)\n",
    "\n",
    "#서남권-서비스업\n",
    "SW_s_df=pd.concat([c_df, pd.DataFrame(SW_service_store20)], axis=1)\n",
    "\n",
    "#서남권-소매업\n",
    "SW_r_df=pd.concat([c_df, pd.DataFrame(SW_retail_store20)], axis=1)\n"
   ]
  },
  {
   "cell_type": "code",
   "execution_count": null,
   "metadata": {},
   "outputs": [],
   "source": []
  },
  {
   "cell_type": "code",
   "execution_count": 284,
   "metadata": {},
   "outputs": [],
   "source": [
    "#도심권=============================================================================================================================="
   ]
  },
  {
   "cell_type": "code",
   "execution_count": 285,
   "metadata": {
    "scrolled": true
   },
   "outputs": [
    {
     "name": "stdout",
     "output_type": "stream",
     "text": [
      "[3.18595812e+06 3.62797345e+08] -5610950688490.511 \n",
      " 0.05097541026385244 \n",
      "\n",
      "0.9974015075484319 0.9974015075484347 0.9922045226452958 384.8385241206096\n"
     ]
    }
   ],
   "source": [
    "#도심권-외식업에 대한 회귀분석\n",
    "\n",
    "reg=LinearRegression()\n",
    "reg.fit(D_f_df[['Covid19','점포수']],D_food_sum20)\n",
    "\n",
    "y_true=D_food_sum20.values\n",
    "y_pred=reg.predict(D_f_df[['Covid19','점포수']])\n",
    "\n",
    "\n",
    "\n",
    "SSR=sum((y_pred-np.mean(y_true))**2)\n",
    "SSE=sum((y_true-y_pred)**2)\n",
    "SST=sum((y_true-np.mean(y_true))**2)\n",
    "\n",
    "n,p=D_f_df[['Covid19','점포수']].shape\n",
    "\n",
    "MSE=SSE/(n-p-1)\n",
    "MSR=SSR/p\n",
    "\n",
    "f=MSR/MSE\n",
    "\n",
    "pvalue=1-stats.f.cdf(f,p,n-p-1)\n",
    "\n",
    "\n",
    "\n",
    "#각 변수에 대한 회귀계수, 오차, p-value\n",
    "\n",
    "print(reg.coef_, reg.intercept_, '\\n', pvalue, '\\n')\n",
    "\n",
    "\"\"\"a=0.05라고 가정했을 때, p-value<a 일 때 유의미하다고 판단 가능\"\"\"\n",
    "    \n",
    "\n",
    "#R^2\n",
    "r2=reg.score(D_f_df[['Covid19','점포수']],D_food_sum20)\n",
    "ad_r2=1-((n-1)/(n-p-1))*(1-r2)\n",
    "\n",
    "\n",
    "#VIF 다중공선성\n",
    "vif=1/(1-r2)\n",
    "\n",
    "print(r2, SSR/SST, ad_r2, vif)"
   ]
  },
  {
   "cell_type": "code",
   "execution_count": 286,
   "metadata": {},
   "outputs": [
    {
     "name": "stdout",
     "output_type": "stream",
     "text": [
      "[-1512330.27294506  -806418.35660442] 246869591303.82623 \n",
      " 0.014426367343003177 \n",
      "\n",
      "0.9997918799252847 0.9997918799252837 0.9993756397758542 4804.918513353961\n"
     ]
    }
   ],
   "source": [
    "#도심권-서비스업에 대한 회귀분석\n",
    "\n",
    "reg=LinearRegression()\n",
    "reg.fit(D_s_df[['Covid19','점포수']],D_service_sum20)\n",
    "\n",
    "y_true=D_service_sum20.values\n",
    "y_pred=reg.predict(D_s_df[['Covid19','점포수']])\n",
    "\n",
    "\n",
    "\n",
    "SSR=sum((y_pred-np.mean(y_true))**2)\n",
    "SSE=sum((y_true-y_pred)**2)\n",
    "SST=sum((y_true-np.mean(y_true))**2)\n",
    "\n",
    "n,p=D_s_df[['Covid19','점포수']].shape\n",
    "\n",
    "MSE=SSE/(n-p-1)\n",
    "MSR=SSR/p\n",
    "\n",
    "f=MSR/MSE\n",
    "\n",
    "pvalue=1-stats.f.cdf(f,p,n-p-1)\n",
    "\n",
    "\n",
    "\n",
    "#각 변수에 대한 회귀계수, 오차, p-value\n",
    "\n",
    "print(reg.coef_, reg.intercept_, '\\n', pvalue, '\\n')\n",
    "\n",
    "\"\"\"a=0.05라고 가정했을 때, p-value<a 일 때 유의미하다고 판단 가능\"\"\"\n",
    "    \n",
    "\n",
    "#R^2\n",
    "r2=reg.score(D_s_df[['Covid19','점포수']],D_service_sum20)\n",
    "ad_r2=1-((n-1)/(n-p-1))*(1-r2)\n",
    "\n",
    "\n",
    "#VIF 다중공선성\n",
    "vif=1/(1-r2)\n",
    "\n",
    "print(r2, SSR/SST, ad_r2, vif)"
   ]
  },
  {
   "cell_type": "code",
   "execution_count": 287,
   "metadata": {},
   "outputs": [
    {
     "name": "stdout",
     "output_type": "stream",
     "text": [
      "[ 8028655.34195468 40937632.92061374] 1217410333870.5159 \n",
      " 0.988333501730431 \n",
      "\n",
      "0.023196889357263606 0.023196889357264154 -1.9304093319282094 1.0237477636020222\n"
     ]
    }
   ],
   "source": [
    "#도심권-소매업에 대한 회귀분석\n",
    "\n",
    "reg=LinearRegression()\n",
    "reg.fit(D_r_df[['Covid19','점포수']],D_retail_sum20)\n",
    "\n",
    "y_true=D_retail_sum20.values\n",
    "y_pred=reg.predict(D_r_df[['Covid19','점포수']])\n",
    "\n",
    "\n",
    "\n",
    "SSR=sum((y_pred-np.mean(y_true))**2)\n",
    "SSE=sum((y_true-y_pred)**2)\n",
    "SST=sum((y_true-np.mean(y_true))**2)\n",
    "\n",
    "n,p=D_r_df[['Covid19','점포수']].shape\n",
    "\n",
    "MSE=SSE/(n-p-1)\n",
    "MSR=SSR/p\n",
    "\n",
    "f=MSR/MSE\n",
    "\n",
    "pvalue=1-stats.f.cdf(f,p,n-p-1)\n",
    "\n",
    "\n",
    "\n",
    "#각 변수에 대한 회귀계수, 오차, p-value\n",
    "\n",
    "print(reg.coef_, reg.intercept_, '\\n', pvalue, '\\n')\n",
    "\n",
    "\"\"\"a=0.05라고 가정했을 때, p-value<a 일 때 유의미하다고 판단 가능\"\"\"\n",
    "    \n",
    "\n",
    "#R^2\n",
    "r2=reg.score(D_r_df[['Covid19','점포수']],D_retail_sum20)\n",
    "ad_r2=1-((n-1)/(n-p-1))*(1-r2)\n",
    "\n",
    "\n",
    "#VIF 다중공선성\n",
    "vif=1/(1-r2)\n",
    "\n",
    "print(r2, SSR/SST, ad_r2, vif)"
   ]
  },
  {
   "cell_type": "code",
   "execution_count": null,
   "metadata": {},
   "outputs": [],
   "source": [
    "#동북권=============================================================================================================================="
   ]
  },
  {
   "cell_type": "code",
   "execution_count": 288,
   "metadata": {},
   "outputs": [
    {
     "name": "stdout",
     "output_type": "stream",
     "text": [
      "[ -9154135.33449311 -42033053.74542248] 1530085124206.6187 \n",
      " 0.4448394188047742 \n",
      "\n",
      "0.8021178914774308 0.8021178914774303 0.40635367443229253 5.053513970849702\n"
     ]
    }
   ],
   "source": [
    "#동북권-외식업에 대한 회귀분석\n",
    "\n",
    "reg=LinearRegression()\n",
    "reg.fit(NE_f_df[['Covid19','점포수']],NE_food_sum20)\n",
    "\n",
    "y_true=NE_food_sum20.values\n",
    "y_pred=reg.predict(NE_f_df[['Covid19','점포수']])\n",
    "\n",
    "\n",
    "\n",
    "SSR=sum((y_pred-np.mean(y_true))**2)\n",
    "SSE=sum((y_true-y_pred)**2)\n",
    "SST=sum((y_true-np.mean(y_true))**2)\n",
    "\n",
    "n,p=NE_f_df[['Covid19','점포수']].shape\n",
    "\n",
    "MSE=SSE/(n-p-1)\n",
    "MSR=SSR/p\n",
    "\n",
    "f=MSR/MSE\n",
    "\n",
    "pvalue=1-stats.f.cdf(f,p,n-p-1)\n",
    "\n",
    "\n",
    "\n",
    "#각 변수에 대한 회귀계수, 오차, p-value\n",
    "\n",
    "print(reg.coef_, reg.intercept_, '\\n', pvalue, '\\n')\n",
    "\n",
    "\"\"\"a=0.05라고 가정했을 때, p-value<a 일 때 유의미하다고 판단 가능\"\"\"\n",
    "    \n",
    "\n",
    "#R^2\n",
    "r2=reg.score(NE_f_df[['Covid19','점포수']],NE_food_sum20)\n",
    "ad_r2=1-((n-1)/(n-p-1))*(1-r2)\n",
    "\n",
    "\n",
    "#VIF 다중공선성\n",
    "vif=1/(1-r2)\n",
    "\n",
    "print(r2, SSR/SST, ad_r2, vif)"
   ]
  },
  {
   "cell_type": "code",
   "execution_count": 272,
   "metadata": {},
   "outputs": [
    {
     "name": "stdout",
     "output_type": "stream",
     "text": [
      "[9.43553808e+05 1.77713011e+08] -1635650695445.1653 \n",
      " 0.5917357298189303 \n",
      "\n",
      "0.6498488260556545 0.649848826055664 -0.05045352183303642 2.8559093169253353\n"
     ]
    }
   ],
   "source": [
    "#동북-서비스업에 대한 회귀분석\n",
    "\n",
    "reg=LinearRegression()\n",
    "reg.fit(NE_s_df[['Covid19','점포수']],NE_service_sum20)\n",
    "\n",
    "y_true=NE_service_sum20.values\n",
    "y_pred=reg.predict(NE_s_df[['Covid19','점포수']])\n",
    "\n",
    "\n",
    "\n",
    "SSR=sum((y_pred-np.mean(y_true))**2)\n",
    "SSE=sum((y_true-y_pred)**2)\n",
    "SST=sum((y_true-np.mean(y_true))**2)\n",
    "\n",
    "n,p=NE_s_df[['Covid19','점포수']].shape\n",
    "\n",
    "MSE=SSE/(n-p-1)\n",
    "MSR=SSR/p\n",
    "\n",
    "f=MSR/MSE\n",
    "\n",
    "pvalue=1-stats.f.cdf(f,p,n-p-1)\n",
    "\n",
    "\n",
    "\n",
    "#각 변수에 대한 회귀계수, 오차, p-value\n",
    "\n",
    "print(reg.coef_, reg.intercept_, '\\n', pvalue, '\\n')\n",
    "\n",
    "\"\"\"a=0.05라고 가정했을 때, p-value<a 일 때 유의미하다고 판단 가능\"\"\"\n",
    "    \n",
    "\n",
    "#R^2\n",
    "r2=reg.score(NE_s_df[['Covid19','점포수']],NE_service_sum20)\n",
    "ad_r2=1-((n-1)/(n-p-1))*(1-r2)\n",
    "\n",
    "\n",
    "#VIF 다중공선성\n",
    "vif=1/(1-r2)\n",
    "\n",
    "print(r2, SSR/SST, ad_r2, vif)"
   ]
  },
  {
   "cell_type": "code",
   "execution_count": 289,
   "metadata": {},
   "outputs": [
    {
     "name": "stdout",
     "output_type": "stream",
     "text": [
      "[  1029194.05039178 -71171164.07200709] 2902503094170.0986 \n",
      " 0.9797073745677725 \n",
      "\n",
      "0.04017346021752033 0.04017346021752247 -1.879479619347439 1.0418549170630609\n"
     ]
    }
   ],
   "source": [
    "#동북권-소매업에 대한 회귀분석\n",
    "\n",
    "reg=LinearRegression()\n",
    "reg.fit(NE_r_df[['Covid19','점포수']],NE_retail_sum20)\n",
    "\n",
    "y_true=NE_retail_sum20.values\n",
    "y_pred=reg.predict(NE_r_df[['Covid19','점포수']])\n",
    "\n",
    "\n",
    "\n",
    "SSR=sum((y_pred-np.mean(y_true))**2)\n",
    "SSE=sum((y_true-y_pred)**2)\n",
    "SST=sum((y_true-np.mean(y_true))**2)\n",
    "\n",
    "n,p=NE_r_df[['Covid19','점포수']].shape\n",
    "\n",
    "MSE=SSE/(n-p-1)\n",
    "MSR=SSR/p\n",
    "\n",
    "f=MSR/MSE\n",
    "\n",
    "pvalue=1-stats.f.cdf(f,p,n-p-1)\n",
    "\n",
    "\n",
    "\n",
    "#각 변수에 대한 회귀계수, 오차, p-value\n",
    "\n",
    "print(reg.coef_, reg.intercept_, '\\n', pvalue, '\\n')\n",
    "\n",
    "\"\"\"a=0.05라고 가정했을 때, p-value<a 일 때 유의미하다고 판단 가능\"\"\"\n",
    "    \n",
    "\n",
    "#R^2\n",
    "r2=reg.score(NE_r_df[['Covid19','점포수']],NE_retail_sum20)\n",
    "ad_r2=1-((n-1)/(n-p-1))*(1-r2)\n",
    "\n",
    "\n",
    "#VIF 다중공선성\n",
    "vif=1/(1-r2)\n",
    "\n",
    "print(r2, SSR/SST, ad_r2, vif)"
   ]
  },
  {
   "cell_type": "code",
   "execution_count": null,
   "metadata": {},
   "outputs": [],
   "source": [
    "#서북권=============================================================================================================================="
   ]
  },
  {
   "cell_type": "code",
   "execution_count": 290,
   "metadata": {},
   "outputs": [
    {
     "name": "stdout",
     "output_type": "stream",
     "text": [
      "[-7.17910159e+06 -2.14350141e+08] 2790529878034.1816 \n",
      " 0.12304557604765332 \n",
      "\n",
      "0.984859786215101 0.9848597862151119 0.9545793586453029 66.04926549963295\n"
     ]
    }
   ],
   "source": [
    "#서북권-외식업에 대한 회귀분석\n",
    "\n",
    "reg=LinearRegression()\n",
    "reg.fit(NW_f_df[['Covid19','점포수']],NW_food_sum20)\n",
    "\n",
    "y_true=NW_food_sum20.values\n",
    "y_pred=reg.predict(NW_f_df[['Covid19','점포수']])\n",
    "\n",
    "\n",
    "\n",
    "SSR=sum((y_pred-np.mean(y_true))**2)\n",
    "SSE=sum((y_true-y_pred)**2)\n",
    "SST=sum((y_true-np.mean(y_true))**2)\n",
    "\n",
    "n,p=NW_f_df[['Covid19','점포수']].shape\n",
    "\n",
    "MSE=SSE/(n-p-1)\n",
    "MSR=SSR/p\n",
    "\n",
    "f=MSR/MSE\n",
    "\n",
    "pvalue=1-stats.f.cdf(f,p,n-p-1)\n",
    "\n",
    "\n",
    "\n",
    "#각 변수에 대한 회귀계수, 오차, p-value\n",
    "\n",
    "print(reg.coef_, reg.intercept_, '\\n', pvalue, '\\n')\n",
    "\n",
    "\"\"\"a=0.05라고 가정했을 때, p-value<a 일 때 유의미하다고 판단 가능\"\"\"\n",
    "    \n",
    "\n",
    "#R^2\n",
    "r2=reg.score(NW_f_df[['Covid19','점포수']],NW_food_sum20)\n",
    "ad_r2=1-((n-1)/(n-p-1))*(1-r2)\n",
    "\n",
    "\n",
    "#VIF 다중공선성\n",
    "vif=1/(1-r2)\n",
    "\n",
    "print(r2, SSR/SST, ad_r2, vif)"
   ]
  },
  {
   "cell_type": "code",
   "execution_count": 291,
   "metadata": {},
   "outputs": [
    {
     "name": "stdout",
     "output_type": "stream",
     "text": [
      "[ -1145345.7913618  -39165767.60723994] 441220921082.0724 \n",
      " 0.6813461575175781 \n",
      "\n",
      "0.5357674136360298 0.5357674136360335 -0.39269775909191074 2.154092645310285\n"
     ]
    }
   ],
   "source": [
    "#서북권-서비스업에 대한 회귀분석\n",
    "\n",
    "reg=LinearRegression()\n",
    "reg.fit(NW_s_df[['Covid19','점포수']],NW_service_sum20)\n",
    "\n",
    "y_true=NW_service_sum20.values\n",
    "y_pred=reg.predict(NW_s_df[['Covid19','점포수']])\n",
    "\n",
    "\n",
    "\n",
    "SSR=sum((y_pred-np.mean(y_true))**2)\n",
    "SSE=sum((y_true-y_pred)**2)\n",
    "SST=sum((y_true-np.mean(y_true))**2)\n",
    "\n",
    "n,p=NW_s_df[['Covid19','점포수']].shape\n",
    "\n",
    "MSE=SSE/(n-p-1)\n",
    "MSR=SSR/p\n",
    "\n",
    "f=MSR/MSE\n",
    "\n",
    "pvalue=1-stats.f.cdf(f,p,n-p-1)\n",
    "\n",
    "\n",
    "\n",
    "#각 변수에 대한 회귀계수, 오차, p-value\n",
    "\n",
    "print(reg.coef_, reg.intercept_, '\\n', pvalue, '\\n')\n",
    "\n",
    "\"\"\"a=0.05라고 가정했을 때, p-value<a 일 때 유의미하다고 판단 가능\"\"\"\n",
    "    \n",
    "\n",
    "#R^2\n",
    "r2=reg.score(NW_s_df[['Covid19','점포수']],NW_service_sum20)\n",
    "ad_r2=1-((n-1)/(n-p-1))*(1-r2)\n",
    "\n",
    "\n",
    "#VIF 다중공선성\n",
    "vif=1/(1-r2)\n",
    "\n",
    "print(r2, SSR/SST, ad_r2, vif)"
   ]
  },
  {
   "cell_type": "code",
   "execution_count": 293,
   "metadata": {},
   "outputs": [
    {
     "name": "stdout",
     "output_type": "stream",
     "text": [
      "[-3.54684626e+06 -3.63034462e+08] 3617401774971.633 \n",
      " 0.3237548430876609 \n",
      "\n",
      "0.8951828015772847 0.8951828015772801 0.6855484047318541 9.540419082440257\n"
     ]
    }
   ],
   "source": [
    "#서북권-소매업에 대한 회귀분석\n",
    "\n",
    "reg=LinearRegression()\n",
    "reg.fit(NW_r_df[['Covid19','점포수']],NW_retail_sum20)\n",
    "\n",
    "y_true=NW_retail_sum20.values\n",
    "y_pred=reg.predict(NW_r_df[['Covid19','점포수']])\n",
    "\n",
    "\n",
    "\n",
    "SSR=sum((y_pred-np.mean(y_true))**2)\n",
    "SSE=sum((y_true-y_pred)**2)\n",
    "SST=sum((y_true-np.mean(y_true))**2)\n",
    "\n",
    "n,p=NW_r_df[['Covid19','점포수']].shape\n",
    "\n",
    "MSE=SSE/(n-p-1)\n",
    "MSR=SSR/p\n",
    "\n",
    "f=MSR/MSE\n",
    "\n",
    "pvalue=1-stats.f.cdf(f,p,n-p-1)\n",
    "\n",
    "\n",
    "\n",
    "#각 변수에 대한 회귀계수, 오차, p-value\n",
    "\n",
    "print(reg.coef_, reg.intercept_, '\\n', pvalue, '\\n')\n",
    "\n",
    "\"\"\"a=0.05라고 가정했을 때, p-value<a 일 때 유의미하다고 판단 가능\"\"\"\n",
    "    \n",
    "\n",
    "#R^2\n",
    "r2=reg.score(NW_r_df[['Covid19','점포수']],NW_retail_sum20)\n",
    "ad_r2=1-((n-1)/(n-p-1))*(1-r2)\n",
    "\n",
    "\n",
    "#VIF 다중공선성\n",
    "vif=1/(1-r2)\n",
    "\n",
    "print(r2, SSR/SST, ad_r2, vif)"
   ]
  },
  {
   "cell_type": "code",
   "execution_count": null,
   "metadata": {},
   "outputs": [],
   "source": [
    "#동남권=============================================================================================================================="
   ]
  },
  {
   "cell_type": "code",
   "execution_count": 295,
   "metadata": {},
   "outputs": [
    {
     "name": "stdout",
     "output_type": "stream",
     "text": [
      "[-16215517.79239413  22451586.52867463] 1058830188511.9938 \n",
      " 0.20885471351104778 \n",
      "\n",
      "0.9563797086442181 0.9563797086442184 0.8691391259326542 22.92511051436268\n"
     ]
    }
   ],
   "source": [
    "#동남권-외식업에 대한 회귀분석\n",
    "\n",
    "reg=LinearRegression()\n",
    "reg.fit(SE_f_df[['Covid19','점포수']],SE_food_sum20)\n",
    "\n",
    "y_true=SE_food_sum20.values\n",
    "y_pred=reg.predict(SE_f_df[['Covid19','점포수']])\n",
    "\n",
    "\n",
    "\n",
    "SSR=sum((y_pred-np.mean(y_true))**2)\n",
    "SSE=sum((y_true-y_pred)**2)\n",
    "SST=sum((y_true-np.mean(y_true))**2)\n",
    "\n",
    "n,p=SE_f_df[['Covid19','점포수']].shape\n",
    "\n",
    "MSE=SSE/(n-p-1)\n",
    "MSR=SSR/p\n",
    "\n",
    "f=MSR/MSE\n",
    "\n",
    "pvalue=1-stats.f.cdf(f,p,n-p-1)\n",
    "\n",
    "\n",
    "\n",
    "#각 변수에 대한 회귀계수, 오차, p-value\n",
    "\n",
    "print(reg.coef_, reg.intercept_, '\\n', pvalue, '\\n')\n",
    "\n",
    "\"\"\"a=0.05라고 가정했을 때, p-value<a 일 때 유의미하다고 판단 가능\"\"\"\n",
    "    \n",
    "\n",
    "#R^2\n",
    "r2=reg.score(SE_f_df[['Covid19','점포수']],SE_food_sum20)\n",
    "ad_r2=1-((n-1)/(n-p-1))*(1-r2)\n",
    "\n",
    "\n",
    "#VIF 다중공선성\n",
    "vif=1/(1-r2)\n",
    "\n",
    "print(r2, SSR/SST, ad_r2, vif)"
   ]
  },
  {
   "cell_type": "code",
   "execution_count": 296,
   "metadata": {},
   "outputs": [
    {
     "name": "stdout",
     "output_type": "stream",
     "text": [
      "[-3.10002955e+06 -3.07262869e+08] 7023282682044.686 \n",
      " 0.23855391645628676 \n",
      "\n",
      "0.9430920289433675 0.9430920289433624 0.8292760868301026 17.572230768952227\n"
     ]
    }
   ],
   "source": [
    "#동남권-서비스업에 대한 회귀분석\n",
    "\n",
    "reg=LinearRegression()\n",
    "reg.fit(SE_s_df[['Covid19','점포수']],SE_service_sum20)\n",
    "\n",
    "y_true=SE_service_sum20.values\n",
    "y_pred=reg.predict(SE_s_df[['Covid19','점포수']])\n",
    "\n",
    "\n",
    "\n",
    "SSR=sum((y_pred-np.mean(y_true))**2)\n",
    "SSE=sum((y_true-y_pred)**2)\n",
    "SST=sum((y_true-np.mean(y_true))**2)\n",
    "\n",
    "n,p=SE_s_df[['Covid19','점포수']].shape\n",
    "\n",
    "MSE=SSE/(n-p-1)\n",
    "MSR=SSR/p\n",
    "\n",
    "f=MSR/MSE\n",
    "\n",
    "pvalue=1-stats.f.cdf(f,p,n-p-1)\n",
    "\n",
    "\n",
    "\n",
    "#각 변수에 대한 회귀계수, 오차, p-value\n",
    "\n",
    "print(reg.coef_, reg.intercept_, '\\n', pvalue, '\\n')\n",
    "\n",
    "\"\"\"a=0.05라고 가정했을 때, p-value<a 일 때 유의미하다고 판단 가능\"\"\"\n",
    "    \n",
    "\n",
    "#R^2\n",
    "r2=reg.score(SE_s_df[['Covid19','점포수']],SE_service_sum20)\n",
    "ad_r2=1-((n-1)/(n-p-1))*(1-r2)\n",
    "\n",
    "\n",
    "#VIF 다중공선성\n",
    "vif=1/(1-r2)\n",
    "\n",
    "print(r2, SSR/SST, ad_r2, vif)"
   ]
  },
  {
   "cell_type": "code",
   "execution_count": 297,
   "metadata": {},
   "outputs": [
    {
     "name": "stdout",
     "output_type": "stream",
     "text": [
      "[-1.11370576e+07 -3.36289121e+08] 11450821846433.262 \n",
      " 0.5223727140952984 \n",
      "\n",
      "0.7271267475687118 0.727126747568711 0.1813802427061353 3.664705100591742\n"
     ]
    }
   ],
   "source": [
    "#동남권-소매업에 대한 회귀분석\n",
    "\n",
    "reg=LinearRegression()\n",
    "reg.fit(SE_r_df[['Covid19','점포수']],SE_retail_sum20)\n",
    "\n",
    "y_true=SE_retail_sum20.values\n",
    "y_pred=reg.predict(SE_r_df[['Covid19','점포수']])\n",
    "\n",
    "\n",
    "\n",
    "SSR=sum((y_pred-np.mean(y_true))**2)\n",
    "SSE=sum((y_true-y_pred)**2)\n",
    "SST=sum((y_true-np.mean(y_true))**2)\n",
    "\n",
    "n,p=SE_r_df[['Covid19','점포수']].shape\n",
    "\n",
    "MSE=SSE/(n-p-1)\n",
    "MSR=SSR/p\n",
    "\n",
    "f=MSR/MSE\n",
    "\n",
    "pvalue=1-stats.f.cdf(f,p,n-p-1)\n",
    "\n",
    "\n",
    "\n",
    "#각 변수에 대한 회귀계수, 오차, p-value\n",
    "\n",
    "print(reg.coef_, reg.intercept_, '\\n', pvalue, '\\n')\n",
    "\n",
    "\"\"\"a=0.05라고 가정했을 때, p-value<a 일 때 유의미하다고 판단 가능\"\"\"\n",
    "    \n",
    "\n",
    "#R^2\n",
    "r2=reg.score(SE_r_df[['Covid19','점포수']],SE_retail_sum20)\n",
    "ad_r2=1-((n-1)/(n-p-1))*(1-r2)\n",
    "\n",
    "\n",
    "#VIF 다중공선성\n",
    "vif=1/(1-r2)\n",
    "\n",
    "print(r2, SSR/SST, ad_r2, vif)"
   ]
  },
  {
   "cell_type": "code",
   "execution_count": 298,
   "metadata": {},
   "outputs": [],
   "source": [
    "#서남권=============================================================================================================================="
   ]
  },
  {
   "cell_type": "code",
   "execution_count": 299,
   "metadata": {},
   "outputs": [
    {
     "name": "stdout",
     "output_type": "stream",
     "text": [
      "[-7.86322670e+06 -3.51087912e+08] 8615815969106.615 \n",
      " 0.2815858327447798 \n",
      "\n",
      "0.9207094187974286 0.9207094187974337 0.7621282563922859 12.611838440750013\n"
     ]
    }
   ],
   "source": [
    "#서남권-외식업에 대한 회귀분석\n",
    "\n",
    "reg=LinearRegression()\n",
    "reg.fit(SW_f_df[['Covid19','점포수']],SW_food_sum20)\n",
    "\n",
    "y_true=SW_food_sum20.values\n",
    "y_pred=reg.predict(SW_f_df[['Covid19','점포수']])\n",
    "\n",
    "\n",
    "\n",
    "SSR=sum((y_pred-np.mean(y_true))**2)\n",
    "SSE=sum((y_true-y_pred)**2)\n",
    "SST=sum((y_true-np.mean(y_true))**2)\n",
    "\n",
    "n,p=SW_f_df[['Covid19','점포수']].shape\n",
    "\n",
    "MSE=SSE/(n-p-1)\n",
    "MSR=SSR/p\n",
    "\n",
    "f=MSR/MSE\n",
    "\n",
    "pvalue=1-stats.f.cdf(f,p,n-p-1)\n",
    "\n",
    "\n",
    "\n",
    "#각 변수에 대한 회귀계수, 오차, p-value\n",
    "\n",
    "print(reg.coef_, reg.intercept_, '\\n', pvalue, '\\n')\n",
    "\n",
    "\"\"\"a=0.05라고 가정했을 때, p-value<a 일 때 유의미하다고 판단 가능\"\"\"\n",
    "    \n",
    "\n",
    "#R^2\n",
    "r2=reg.score(SW_f_df[['Covid19','점포수']],SW_food_sum20)\n",
    "ad_r2=1-((n-1)/(n-p-1))*(1-r2)\n",
    "\n",
    "\n",
    "#VIF 다중공선성\n",
    "vif=1/(1-r2)\n",
    "\n",
    "print(r2, SSR/SST, ad_r2, vif)"
   ]
  },
  {
   "cell_type": "code",
   "execution_count": 300,
   "metadata": {},
   "outputs": [
    {
     "name": "stdout",
     "output_type": "stream",
     "text": [
      "[1.87222482e+07 1.10160446e+09] -15565828129480.418 \n",
      " 0.3396480297688599 \n",
      "\n",
      "0.884639215874141 0.8846392158740611 0.6539176476224229 8.668457028768081\n"
     ]
    }
   ],
   "source": [
    "#서남권-서비스업에 대한 회귀분석\n",
    "\n",
    "reg=LinearRegression()\n",
    "reg.fit(SW_s_df[['Covid19','점포수']],SW_service_sum20)\n",
    "\n",
    "y_true=SW_service_sum20.values\n",
    "y_pred=reg.predict(SW_s_df[['Covid19','점포수']])\n",
    "\n",
    "\n",
    "\n",
    "SSR=sum((y_pred-np.mean(y_true))**2)\n",
    "SSE=sum((y_true-y_pred)**2)\n",
    "SST=sum((y_true-np.mean(y_true))**2)\n",
    "\n",
    "n,p=SW_s_df[['Covid19','점포수']].shape\n",
    "\n",
    "MSE=SSE/(n-p-1)\n",
    "MSR=SSR/p\n",
    "\n",
    "f=MSR/MSE\n",
    "\n",
    "pvalue=1-stats.f.cdf(f,p,n-p-1)\n",
    "\n",
    "\n",
    "\n",
    "#각 변수에 대한 회귀계수, 오차, p-value\n",
    "\n",
    "print(reg.coef_, reg.intercept_, '\\n', pvalue, '\\n')\n",
    "\n",
    "\"\"\"a=0.05라고 가정했을 때, p-value<a 일 때 유의미하다고 판단 가능\"\"\"\n",
    "    \n",
    "\n",
    "#R^2\n",
    "r2=reg.score(SW_s_df[['Covid19','점포수']],SW_service_sum20)\n",
    "ad_r2=1-((n-1)/(n-p-1))*(1-r2)\n",
    "\n",
    "\n",
    "#VIF 다중공선성\n",
    "vif=1/(1-r2)\n",
    "\n",
    "print(r2, SSR/SST, ad_r2, vif)"
   ]
  },
  {
   "cell_type": "code",
   "execution_count": 301,
   "metadata": {},
   "outputs": [
    {
     "name": "stdout",
     "output_type": "stream",
     "text": [
      "[ 5664889.88699061 69543955.85819912] 928124242931.6414 \n",
      " 0.9338102090602661 \n",
      "\n",
      "0.12799849345481784 0.12799849345482273 -1.6160045196355464 1.1467870095338943\n"
     ]
    }
   ],
   "source": [
    "#서남권-소매업에 대한 회귀분석\n",
    "\n",
    "reg=LinearRegression()\n",
    "reg.fit(SW_r_df[['Covid19','점포수']],SW_retail_sum20)\n",
    "\n",
    "y_true=SW_retail_sum20.values\n",
    "y_pred=reg.predict(SW_r_df[['Covid19','점포수']])\n",
    "\n",
    "\n",
    "\n",
    "SSR=sum((y_pred-np.mean(y_true))**2)\n",
    "SSE=sum((y_true-y_pred)**2)\n",
    "SST=sum((y_true-np.mean(y_true))**2)\n",
    "\n",
    "n,p=SW_r_df[['Covid19','점포수']].shape\n",
    "\n",
    "MSE=SSE/(n-p-1)\n",
    "MSR=SSR/p\n",
    "\n",
    "f=MSR/MSE\n",
    "\n",
    "pvalue=1-stats.f.cdf(f,p,n-p-1)\n",
    "\n",
    "\n",
    "\n",
    "#각 변수에 대한 회귀계수, 오차, p-value\n",
    "\n",
    "print(reg.coef_, reg.intercept_, '\\n', pvalue, '\\n')\n",
    "\n",
    "\"\"\"a=0.05라고 가정했을 때, p-value<a 일 때 유의미하다고 판단 가능\"\"\"\n",
    "    \n",
    "\n",
    "#R^2\n",
    "r2=reg.score(SW_r_df[['Covid19','점포수']],SW_retail_sum20)\n",
    "ad_r2=1-((n-1)/(n-p-1))*(1-r2)\n",
    "\n",
    "\n",
    "#VIF 다중공선성\n",
    "vif=1/(1-r2)\n",
    "\n",
    "print(r2, SSR/SST, ad_r2, vif)"
   ]
  },
  {
   "cell_type": "code",
   "execution_count": null,
   "metadata": {},
   "outputs": [],
   "source": []
  },
  {
   "cell_type": "code",
   "execution_count": null,
   "metadata": {},
   "outputs": [],
   "source": []
  }
 ],
 "metadata": {
  "kernelspec": {
   "display_name": "Python 3 (ipykernel)",
   "language": "python",
   "name": "python3"
  },
  "language_info": {
   "codemirror_mode": {
    "name": "ipython",
    "version": 3
   },
   "file_extension": ".py",
   "mimetype": "text/x-python",
   "name": "python",
   "nbconvert_exporter": "python",
   "pygments_lexer": "ipython3",
   "version": "3.7.7"
  }
 },
 "nbformat": 4,
 "nbformat_minor": 4
}
